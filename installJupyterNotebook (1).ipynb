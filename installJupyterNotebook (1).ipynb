{
 "cells": [
  {
   "cell_type": "markdown",
   "id": "b4880e11",
   "metadata": {},
   "source": [
    "# Python 설치"
   ]
  },
  {
   "cell_type": "markdown",
   "id": "8b0fffff",
   "metadata": {},
   "source": [
    "* python 직접 설치\n",
    "    - 파이썬 홈페이지 https://www.python.org/ 에서 파이썬 최신 버전을 다운받아 설치\n",
    "    - 파이썬 홈페이지로부터 다운받아 설치하면 프로그래밍할 때 필요한 패키지(모듈)들을 command line(cmd)을 이용하여 설치\n",
    "        > 윈도우키+R : cmd 입력 / 맥OS에서 terminal -> pip install module\n",
    "    - 그 외의 필요한 설정들을 cmd를 통해 진행"
   ]
  },
  {
   "cell_type": "markdown",
   "id": "3fc1c8c5",
   "metadata": {},
   "source": [
    "* 이번 과목에서는 Anaconda를 이용하여 python 설치\n",
    "    * Python 프로그래밍 언어와 관련된 다양한 패키지, 라이브러리를 포함하는 환경을 제공\n",
    "    * 자주 사용되는 패키지들(Jupyter, Spyder, Numpy, SciPy, Pandas, matplotlib 등)이 기본적으로 설치되기 때문에 좀더 편리하며 또한 파이썬 버전과 호환되는 패키지들을 선택해서 설치 가능\n",
    "    *  https://www.anaconda.com/download/ 에서 설치 가능 (anaconda 홈페이지에서 자동으로 사양에 맞는 버전을 추천해주지만 자신의 컴퓨터 사양을 확인한 후 설치)\n",
    "    * 아나콘다 설치 폴더는 자유롭게 선택할 수 있지만 폴더 경로에 빈 칸이 들어가면 문제가 될 수 있으므로 피하는 것이 좋음. \n",
    "     - 예를 들어 c:\\Program Files\\Anaconda와 같이 Program과 Files사이에 빈 칸으로 연결된 경로를 피하고 c:\\Anaconda 와 같은 폴더명을 사용하는 것이 좋음.\n",
    "     <img src=\"install.png\" width=\"300\" height=\"300\">\n",
    "     * 환경변수를 설정하는 것이 이후 작업들에서 조금 더 편함 (설치 파일에서는 환경 변수 자동 추가로 인해 기존의 환경 변수에 영향을 줄 수 있음을 경고하지만 대부분의 경우 문제가 발생하지 않음. 이를 통해 추가적으로 환경 변수 설정을 해주지 않아도 됨.)\n",
    "     <img src=\"env.png\" width=\"\\600\" height=\"600\">\n",
    "     "
   ]
  },
  {
   "cell_type": "markdown",
   "id": "7ecccf0c",
   "metadata": {},
   "source": [
    "* anaconda 설치 후 윈도우즈 시작 -> Anaconda3 (64-bit) 폴더 생성 확인 -> Anaconda Navigator 실행\n",
    "<img src=\"ana.png\" width=\"\\600\" height=\"600\">"
   ]
  },
  {
   "cell_type": "markdown",
   "id": "90da4878",
   "metadata": {},
   "source": [
    "* Anaconda를 이용할 때 추가로 모듈을 설치하거나 설정을 변경해야 할 경우에는 시작 -> Anaconda3 (64-bit) 폴더 -> Anaconda prompt 실행 후\n",
    "> conda install module"
   ]
  },
  {
   "cell_type": "markdown",
   "id": "949a2145",
   "metadata": {},
   "source": [
    "* jupyter notebook 설치 및 실행\n",
    "     * pyCharm 및  VS code를 이용하여도 무방하지만 수업 진행의 편의성을 위해 jupyter notebook을 사용하기로 함\n",
    "     * python을 이용하여 코드를 작성하는 방법은 \n",
    "     1. pyCharm 및 VS code 등 편집기를 이용하여 코드를 작성한 후 script_name.py 라는 파일을 만든 후, cmd에서 아래의 명령어를 통해 실행\n",
    "         > python script_name.py   \n",
    "     2. cmd에서 python을 입력하여 작동되는 python에서 한줄한줄 코드를 입력\n",
    "     3. ipython을 통해 코드의 chuck를 작성하는 방법\n",
    "         - ipython notebook을 통해 문서 형태로 작성 가능\n",
    "         - ipython notebook 형태의 문서 작성 방법을 python뿐 아니라 다른 프로그래밍 언어까지 포함시키는 jupyter notebook으로 확장"
   ]
  },
  {
   "cell_type": "markdown",
   "id": "1590951c",
   "metadata": {},
   "source": [
    "# Jupyter Notebook"
   ]
  },
  {
   "cell_type": "markdown",
   "id": "de69766a",
   "metadata": {},
   "source": [
    "* jupyter notebook을 실행한 후 작업공간으로 설정할 폴더를 찾아 들어간 후, 오른쪽 위의 New를 눌러 Python 3 (ipykernel)을 실행한 후 ipython notebook 파일(.ipynb)을 작성\n",
    "* jupyter notebook은 cell 들로 구성되며, 주로 code와 markdown 타입의 cell을 사용.\n",
    "    - code : python 코드 입력 (y)\n",
    "    - markdown : 글자, 숫자, 수식 등의 마크다운 타입의 내용을 작성 (m)\n",
    "* cell은 초록색/파란색의 두 가지 상태를 가지며, 초록색은 작성 중인 경우, 파란색은 실행(run)된 경우를 나타냄.\n",
    "* cell에서 앞에 In [] : 가 붙어 있으면 code cell, 앞에 In []:가 없으면 markdown cell\n",
    "* code와 markdown cell 모두 내용 작성 후 코드를 실행하기 위해서는 \n",
    "    - 위쪽의 $\\blacktriangleright$ Run을 실행하거나 \n",
    "    - Ctrl+Enter(작성중인 cell이 실행됨) 또는 \n",
    "    - Shift+Enter(작성중인 cell이 실행되고 아래에 cell로 넘어감. 아래에 cell이 없다면 새로 추가됨.) 또는 \n",
    "    - Alt+Enter(작성중인 cell이 실행되고 아래에 새로운 cell이 추가됨.)\n",
    "* cell을 추가하고 싶은 경우, cell을 실행하여 파란색으로 바뀌면, a(위쪽에 cell 추가), b(아래쪽에 cell 추가)\n",
    "* 추가되는 cell은 code형태의 cell로 만들어지는데, markdown 타입의 cell을 위해서는 파란색일 때 m(code는 y)"
   ]
  },
  {
   "cell_type": "markdown",
   "id": "ba2b4acb",
   "metadata": {},
   "source": [
    "* 몇 가지 단축키\n",
    "    - 셀이 파란색일때\n",
    "        * cell 추가 : a(위로 추가), b(아래로 추가)\n",
    "        * cell 삭제 : dd\n",
    "        * 아래 cell과 합치기 : shift + m"
   ]
  }
 ],
 "metadata": {
  "kernelspec": {
   "display_name": "Python 3 (ipykernel)",
   "language": "python",
   "name": "python3"
  },
  "language_info": {
   "codemirror_mode": {
    "name": "ipython",
    "version": 3
   },
   "file_extension": ".py",
   "mimetype": "text/x-python",
   "name": "python",
   "nbconvert_exporter": "python",
   "pygments_lexer": "ipython3",
   "version": "3.10.9"
  }
 },
 "nbformat": 4,
 "nbformat_minor": 5
}
