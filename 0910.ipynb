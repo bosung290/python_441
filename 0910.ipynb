{
 "cells": [
  {
   "cell_type": "markdown",
   "id": "a13e2b87",
   "metadata": {},
   "source": [
    "# 기본적인 파이썬 문법"
   ]
  },
  {
   "cell_type": "markdown",
   "id": "05034742",
   "metadata": {},
   "source": [
    "### 들여쓰기(indentation)\n",
    "\n",
    "if, for, class, def 등 파이썬 문법에서 사용되는 많은 경우는 들여쓰기(스페이스 한 번, 두 번 또는 탭)를 통해 하나의 코드 블록을 구성됨."
   ]
  },
  {
   "cell_type": "code",
   "execution_count": 3,
   "id": "c16893f2",
   "metadata": {},
   "outputs": [
    {
     "ename": "IndentationError",
     "evalue": "unexpected indent (945199647.py, line 2)",
     "output_type": "error",
     "traceback": [
      "\u001b[1;36m  Cell \u001b[1;32mIn[3], line 2\u001b[1;36m\u001b[0m\n\u001b[1;33m    print(1+3)\u001b[0m\n\u001b[1;37m    ^\u001b[0m\n\u001b[1;31mIndentationError\u001b[0m\u001b[1;31m:\u001b[0m unexpected indent\n"
     ]
    }
   ],
   "source": [
    "print(1+2)\n",
    " print(1+3)"
   ]
  },
  {
   "cell_type": "code",
   "execution_count": 5,
   "id": "18feaa29",
   "metadata": {},
   "outputs": [
    {
     "name": "stdout",
     "output_type": "stream",
     "text": [
      "0\n",
      "1\n",
      "2\n"
     ]
    }
   ],
   "source": [
    "for i in range(3):\n",
    "    print(i)"
   ]
  },
  {
   "cell_type": "markdown",
   "id": "503d533d",
   "metadata": {},
   "source": [
    "### 기본 연산자"
   ]
  },
  {
   "cell_type": "markdown",
   "id": "0e52fcec",
   "metadata": {},
   "source": [
    "* 사칙 연산\n",
    "연산연산자(arithmetic operator) : +, -, *, /, **"
   ]
  },
  {
   "cell_type": "code",
   "execution_count": 9,
   "id": "897ba665",
   "metadata": {},
   "outputs": [
    {
     "data": {
      "text/plain": [
       "8"
      ]
     },
     "execution_count": 9,
     "metadata": {},
     "output_type": "execute_result"
    }
   ],
   "source": [
    "2**3"
   ]
  },
  {
   "cell_type": "code",
   "execution_count": 11,
   "id": "021b003b",
   "metadata": {},
   "outputs": [
    {
     "data": {
      "text/plain": [
       "3"
      ]
     },
     "execution_count": 11,
     "metadata": {},
     "output_type": "execute_result"
    }
   ],
   "source": [
    "3-2*2+4"
   ]
  },
  {
   "cell_type": "markdown",
   "id": "4c856480",
   "metadata": {},
   "source": [
    "* 그 외 나누기 연산 : %(나머지 계산), //(몫)"
   ]
  },
  {
   "cell_type": "code",
   "execution_count": 14,
   "id": "cf88a829",
   "metadata": {},
   "outputs": [
    {
     "data": {
      "text/plain": [
       "4.5"
      ]
     },
     "execution_count": 14,
     "metadata": {},
     "output_type": "execute_result"
    }
   ],
   "source": [
    "9/2"
   ]
  },
  {
   "cell_type": "code",
   "execution_count": 16,
   "id": "b1ab259e",
   "metadata": {},
   "outputs": [
    {
     "data": {
      "text/plain": [
       "4"
      ]
     },
     "execution_count": 16,
     "metadata": {},
     "output_type": "execute_result"
    }
   ],
   "source": [
    "9//2"
   ]
  },
  {
   "cell_type": "code",
   "execution_count": 18,
   "id": "a5530670",
   "metadata": {},
   "outputs": [
    {
     "data": {
      "text/plain": [
       "1"
      ]
     },
     "execution_count": 18,
     "metadata": {},
     "output_type": "execute_result"
    }
   ],
   "source": [
    "9%2"
   ]
  },
  {
   "cell_type": "markdown",
   "id": "94415c7e",
   "metadata": {},
   "source": [
    "* R에서 사용되는 ^는 파이썬에서는 사칙연산자가 아님. \n",
    "    - bitwise XOR "
   ]
  },
  {
   "cell_type": "code",
   "execution_count": 21,
   "id": "00e442bd",
   "metadata": {
    "scrolled": true
   },
   "outputs": [
    {
     "data": {
      "text/plain": [
       "6"
      ]
     },
     "execution_count": 21,
     "metadata": {},
     "output_type": "execute_result"
    }
   ],
   "source": [
    "3^5"
   ]
  },
  {
   "cell_type": "markdown",
   "id": "7c6bc3a1",
   "metadata": {},
   "source": [
    "3 = 011  \n",
    "5 = 101  \n",
    "6 = 110"
   ]
  },
  {
   "cell_type": "markdown",
   "id": "11ff84ce",
   "metadata": {},
   "source": [
    "* 비교연산자(comparison operator) : <, >, <=, >=, == !="
   ]
  },
  {
   "cell_type": "code",
   "execution_count": 25,
   "id": "25a4bff2",
   "metadata": {},
   "outputs": [
    {
     "data": {
      "text/plain": [
       "True"
      ]
     },
     "execution_count": 25,
     "metadata": {},
     "output_type": "execute_result"
    }
   ],
   "source": [
    "1>0.8"
   ]
  },
  {
   "cell_type": "code",
   "execution_count": 27,
   "id": "973fa16e",
   "metadata": {},
   "outputs": [
    {
     "data": {
      "text/plain": [
       "True"
      ]
     },
     "execution_count": 27,
     "metadata": {},
     "output_type": "execute_result"
    }
   ],
   "source": [
    "2<3"
   ]
  },
  {
   "cell_type": "code",
   "execution_count": 29,
   "id": "a156aae6",
   "metadata": {},
   "outputs": [
    {
     "data": {
      "text/plain": [
       "False"
      ]
     },
     "execution_count": 29,
     "metadata": {},
     "output_type": "execute_result"
    }
   ],
   "source": [
    "3<2"
   ]
  },
  {
   "cell_type": "code",
   "execution_count": 31,
   "id": "716bb2f2",
   "metadata": {
    "scrolled": true
   },
   "outputs": [
    {
     "name": "stdout",
     "output_type": "stream",
     "text": [
      "x > y is False\n",
      "x <= y is True\n",
      "x == y is False\n",
      "x != y is True\n"
     ]
    }
   ],
   "source": [
    "x = 10\n",
    "y=15\n",
    "print('x > y is', x>y)\n",
    "print('x <= y is', x<y)\n",
    "print('x == y is', x == y)\n",
    "print('x != y is', x != y)"
   ]
  },
  {
   "cell_type": "markdown",
   "id": "a42de24b",
   "metadata": {},
   "source": [
    "* 논리연산자(logical operator) : not, and, or\n",
    "     - 벡터 형태의 데이터를 다룰 때 많이 사용"
   ]
  },
  {
   "cell_type": "code",
   "execution_count": 34,
   "id": "f42dd6c9",
   "metadata": {},
   "outputs": [
    {
     "name": "stdout",
     "output_type": "stream",
     "text": [
      "True\n",
      "True\n",
      "True\n"
     ]
    }
   ],
   "source": [
    "a = 3\n",
    "b = 5\n",
    "c = 10\n",
    "d = 9\n",
    "\n",
    "print(a < b and c > d)\n",
    "print(a < b or c < d)\n",
    "print(not c < d)"
   ]
  },
  {
   "cell_type": "markdown",
   "id": "60fcf7f4",
   "metadata": {},
   "source": [
    "### 조건문 : if + else"
   ]
  },
  {
   "cell_type": "markdown",
   "id": "9a891c58",
   "metadata": {},
   "source": [
    "* if의 기본구조  \n",
    "\n",
    "if 참, 거짓을 판별할 수 있는 식 :  \n",
    "\n",
    "    참일때 실행  \n",
    "    \n",
    "    들여쓰기 같으면 if에 의해 실행  \n",
    "    \n",
    "else : \n",
    "\n",
    "    거짓일때 실행\n",
    "    "
   ]
  },
  {
   "cell_type": "code",
   "execution_count": 38,
   "id": "3d92565e",
   "metadata": {},
   "outputs": [
    {
     "name": "stdout",
     "output_type": "stream",
     "text": [
      "3  is equal or greater than 2\n",
      "3\n"
     ]
    }
   ],
   "source": [
    "data = 3\n",
    "if data < 2:\n",
    "    print(\"It is less than 2\")\n",
    "else :\n",
    "    print(data, \" is equal or greater than 2\")\n",
    "print(data)"
   ]
  },
  {
   "cell_type": "markdown",
   "id": "c074915e",
   "metadata": {},
   "source": [
    "예제. 짝수인지 홀수인지 출력"
   ]
  },
  {
   "cell_type": "code",
   "execution_count": 41,
   "id": "bba6a68f",
   "metadata": {
    "scrolled": true
   },
   "outputs": [
    {
     "name": "stdout",
     "output_type": "stream",
     "text": [
      "3  는 홀수.\n"
     ]
    }
   ],
   "source": [
    "even_numbers = [2,4,6,8,10]\n",
    "x = 3\n",
    "if x in even_numbers:\n",
    "    print(x,' 는 짝수.')\n",
    "else :\n",
    "    print(x, ' 는 홀수.')"
   ]
  },
  {
   "cell_type": "markdown",
   "id": "50f5760d",
   "metadata": {},
   "source": [
    "* 조건에 따라 변수 값 지정 (R에서의 ifelse 함수) \n",
    "> 변수 = 조건문이 참인 경우의 값 if 조건문 else 조건문이 거짓인 경우의 값"
   ]
  },
  {
   "cell_type": "code",
   "execution_count": 44,
   "id": "48b6146f",
   "metadata": {},
   "outputs": [
    {
     "name": "stdout",
     "output_type": "stream",
     "text": [
      "Good\n"
     ]
    }
   ],
   "source": [
    "score = 90\n",
    "if score >= 60:\n",
    "    message = \"Good\"\n",
    "else:\n",
    "    message = \"Not Bad\"\n",
    "print(message)"
   ]
  },
  {
   "cell_type": "code",
   "execution_count": 46,
   "id": "9188cf21",
   "metadata": {},
   "outputs": [
    {
     "name": "stdout",
     "output_type": "stream",
     "text": [
      "Good\n"
     ]
    }
   ],
   "source": [
    "message2 = \"Good\" if score >= 60 else \"Not Bad\"\n",
    "print(message2)"
   ]
  },
  {
   "cell_type": "markdown",
   "id": "2777ac04",
   "metadata": {},
   "source": [
    "### 반복문 : for , while"
   ]
  },
  {
   "cell_type": "markdown",
   "id": "54cdecfb",
   "metadata": {},
   "source": [
    "* for 를 이용하는 반복문 : 들여쓰기와 콜론(:) 사용"
   ]
  },
  {
   "cell_type": "code",
   "execution_count": 50,
   "id": "9940f23b",
   "metadata": {},
   "outputs": [
    {
     "name": "stdout",
     "output_type": "stream",
     "text": [
      "0\n",
      "1\n",
      "2\n"
     ]
    }
   ],
   "source": [
    "for i in range(3):\n",
    "    print(i)"
   ]
  },
  {
   "cell_type": "code",
   "execution_count": 52,
   "id": "e5a1a4bf",
   "metadata": {},
   "outputs": [
    {
     "ename": "SyntaxError",
     "evalue": "expected ':' (859882524.py, line 1)",
     "output_type": "error",
     "traceback": [
      "\u001b[1;36m  Cell \u001b[1;32mIn[52], line 1\u001b[1;36m\u001b[0m\n\u001b[1;33m    for i in range(3)\u001b[0m\n\u001b[1;37m                     ^\u001b[0m\n\u001b[1;31mSyntaxError\u001b[0m\u001b[1;31m:\u001b[0m expected ':'\n"
     ]
    }
   ],
   "source": [
    "for i in range(3)\n",
    "    print(i)"
   ]
  },
  {
   "cell_type": "code",
   "execution_count": 54,
   "id": "e31a8d5b",
   "metadata": {
    "scrolled": true
   },
   "outputs": [
    {
     "ename": "IndentationError",
     "evalue": "expected an indented block after 'for' statement on line 1 (3296739069.py, line 2)",
     "output_type": "error",
     "traceback": [
      "\u001b[1;36m  Cell \u001b[1;32mIn[54], line 2\u001b[1;36m\u001b[0m\n\u001b[1;33m    print(i)\u001b[0m\n\u001b[1;37m    ^\u001b[0m\n\u001b[1;31mIndentationError\u001b[0m\u001b[1;31m:\u001b[0m expected an indented block after 'for' statement on line 1\n"
     ]
    }
   ],
   "source": [
    "for i in range(3):\n",
    "print(i)"
   ]
  },
  {
   "cell_type": "code",
   "execution_count": 56,
   "id": "a5a2751b",
   "metadata": {},
   "outputs": [
    {
     "name": "stdout",
     "output_type": "stream",
     "text": [
      "1\n",
      "2\n"
     ]
    }
   ],
   "source": [
    "for i in range(1,3):\n",
    "    print(i)"
   ]
  },
  {
   "cell_type": "markdown",
   "id": "ff45265a",
   "metadata": {},
   "source": [
    "예제. $$\\sum_{i=100}^{200}i = 100 + 101 + 102 + \\cdots + 200 $$"
   ]
  },
  {
   "cell_type": "code",
   "execution_count": 59,
   "id": "a618bc7a",
   "metadata": {},
   "outputs": [
    {
     "name": "stdout",
     "output_type": "stream",
     "text": [
      "15150\n"
     ]
    }
   ],
   "source": [
    "sum = 0\n",
    "for i in range(100, 201):\n",
    "    sum = sum + i\n",
    "print(sum)"
   ]
  },
  {
   "cell_type": "code",
   "execution_count": 61,
   "id": "d0ea7eab",
   "metadata": {},
   "outputs": [
    {
     "name": "stdout",
     "output_type": "stream",
     "text": [
      "15150\n"
     ]
    }
   ],
   "source": [
    "sum = 0\n",
    "for i in range(100, 201):\n",
    "    sum += i\n",
    "print(sum)"
   ]
  },
  {
   "cell_type": "code",
   "execution_count": 63,
   "id": "4062baef",
   "metadata": {},
   "outputs": [
    {
     "name": "stdout",
     "output_type": "stream",
     "text": [
      "i+j = 2\n",
      "i+j = 3\n",
      "i+j = 4\n"
     ]
    }
   ],
   "source": [
    "for i in range(1,3):\n",
    "    for j in range(i,3):\n",
    "        print('i+j =',i+j)"
   ]
  },
  {
   "cell_type": "markdown",
   "id": "ae246d58",
   "metadata": {},
   "source": [
    "range(a,b)는 a부터 b-1까지의 순차적인 숫자열을 나타내며, 순차적인 숫자열을 반복으로 사용하고 싶지 않을 때는 벡터를 지정."
   ]
  },
  {
   "cell_type": "code",
   "execution_count": 66,
   "id": "433afe3c",
   "metadata": {},
   "outputs": [
    {
     "name": "stdout",
     "output_type": "stream",
     "text": [
      "1\n",
      "3\n",
      "5\n",
      "7\n",
      "9\n"
     ]
    }
   ],
   "source": [
    "seq = [1,3,5,7,9]\n",
    "for i in seq:\n",
    "    print(i)"
   ]
  },
  {
   "cell_type": "markdown",
   "id": "f47a0e63",
   "metadata": {},
   "source": [
    "* while을 이용한 반복문 : while 뒤의 조건이 만족하는 동안 반복해서 실행"
   ]
  },
  {
   "cell_type": "code",
   "execution_count": 69,
   "id": "dcf5a58d",
   "metadata": {},
   "outputs": [
    {
     "name": "stdout",
     "output_type": "stream",
     "text": [
      "0 less than 5\n",
      "1 less than 5\n",
      "2 less than 5\n",
      "3 less than 5\n",
      "4 less than 5\n"
     ]
    }
   ],
   "source": [
    "count = 0\n",
    "while count < 5:\n",
    "    print(count, 'less than 5')\n",
    "    count += 1"
   ]
  },
  {
   "cell_type": "code",
   "execution_count": 71,
   "id": "c4ceb200",
   "metadata": {},
   "outputs": [
    {
     "name": "stdout",
     "output_type": "stream",
     "text": [
      "0 less than 5\n",
      "1 less than 5\n",
      "2 less than 5\n",
      "3 less than 5\n",
      "4 less than 5\n",
      "5 stop here\n"
     ]
    }
   ],
   "source": [
    "count = 0\n",
    "while count < 5:\n",
    "    print(count, 'less than 5')\n",
    "    count += 1\n",
    "else:\n",
    "    print(count, 'stop here')"
   ]
  },
  {
   "cell_type": "markdown",
   "id": "cc16d6b4",
   "metadata": {},
   "source": [
    "예제. 50을 3으로 계속 나누어 가는데 결괏값이 1보다 큰 경우 동안만 수행"
   ]
  },
  {
   "cell_type": "code",
   "execution_count": 74,
   "id": "30b38a71",
   "metadata": {},
   "outputs": [
    {
     "name": "stdout",
     "output_type": "stream",
     "text": [
      "16.666666666666668\n",
      "5.555555555555556\n",
      "1.851851851851852\n",
      "0.617283950617284\n"
     ]
    }
   ],
   "source": [
    "result = 50\n",
    "while result > 1 :\n",
    "    result /= 3\n",
    "    print(result)"
   ]
  },
  {
   "cell_type": "markdown",
   "id": "ded304f0",
   "metadata": {},
   "source": [
    "* for/while에 의한 반복 과정에서 특정 조건을 만족하면 반복이 종료 : break"
   ]
  },
  {
   "cell_type": "code",
   "execution_count": 77,
   "id": "e0416228",
   "metadata": {},
   "outputs": [
    {
     "name": "stdout",
     "output_type": "stream",
     "text": [
      "1\n",
      "2\n",
      "3\n",
      "4\n",
      "5\n",
      "6\n",
      "7\n",
      "8\n",
      "9\n",
      "10\n"
     ]
    }
   ],
   "source": [
    "sum = 0\n",
    "for i in range(20): \n",
    "    sum += 1\n",
    "    print(sum)\n",
    "    if sum == 10:\n",
    "        break"
   ]
  },
  {
   "cell_type": "code",
   "execution_count": 79,
   "id": "5d81ebdc",
   "metadata": {},
   "outputs": [
    {
     "name": "stdout",
     "output_type": "stream",
     "text": [
      "1\n",
      "2\n",
      "3\n",
      "4\n",
      "5\n",
      "6\n",
      "7\n",
      "8\n",
      "9\n",
      "10\n"
     ]
    }
   ],
   "source": [
    "sum = 0\n",
    "while True : \n",
    "    sum += 1\n",
    "    print(sum)\n",
    "    if sum == 10:\n",
    "        break"
   ]
  },
  {
   "cell_type": "markdown",
   "id": "59c66b7f",
   "metadata": {},
   "source": [
    "* for/while에 의한 반복 과정에서 특정 조건을 만족하면 코드 실행하지 않고 반복만 진행 : continue"
   ]
  },
  {
   "cell_type": "code",
   "execution_count": 82,
   "id": "fa677c7d",
   "metadata": {},
   "outputs": [
    {
     "name": "stdout",
     "output_type": "stream",
     "text": [
      "1\n",
      "3\n",
      "5\n",
      "7\n",
      "9\n"
     ]
    }
   ],
   "source": [
    "a = 0\n",
    "for i in range(10):\n",
    "    a = a + 1\n",
    "    if a % 2 == 0: \n",
    "        continue\n",
    "    print(a)"
   ]
  },
  {
   "cell_type": "code",
   "execution_count": 84,
   "id": "41ee19a1",
   "metadata": {},
   "outputs": [
    {
     "name": "stdout",
     "output_type": "stream",
     "text": [
      "1\n",
      "3\n",
      "5\n",
      "7\n",
      "9\n"
     ]
    }
   ],
   "source": [
    "a = 0\n",
    "while a < 10:\n",
    "    a = a + 1\n",
    "    if a % 2 == 0: \n",
    "        continue\n",
    "    print(a)"
   ]
  },
  {
   "cell_type": "markdown",
   "id": "e10b88eb",
   "metadata": {},
   "source": [
    "예제1. for를 두 번 사용하는 이중반복을 사용하여 구구단의 결과가 나오게 코드를 작성하여라.  \n",
    "예제2. while를 두 번 사용하는 이중반복을 사용하여 구구단의 결과가 나오게 코드를 작성하여라."
   ]
  },
  {
   "cell_type": "markdown",
   "id": "447e921d",
   "metadata": {},
   "source": [
    "# 클래스(class)와 인스턴스(instance)\n",
    "* 데이터 구조와 계산 로직을 한 군데서 사용할 수 있도록 함께 묶어둔 목록\n",
    "* 클래스 : 데이터와 기능을 함께 묶는 방법을 제공\n",
    "* 인스턴스 : 클래스에 의해 만들어진 객체이며 각자의 값을 가짐\n",
    "* 메서드(method) : 함수와 비슷한 개념으로 클래스에 묶여서 클래스 안에 있는 인스턴스와 관계되는 함수  \n",
    "\n",
    "예.\n",
    "* 덕성여자대학교, 서울대학교, 고려대학교, 성균관대학교 $\\cdots$\n",
    "* 이 학교들은 모두 '대학교'라는 공통적인 특징을 가짐.\n",
    "* 이 때 대학교는 특정 학교를 지칭하는 표현이 아니라, 일반적으로 고등학교를 졸업한 후 진학하여 전공 공부를 하기 위한 학교를 지칭\n",
    "* 여기서 '대학교'는 클래스\n",
    "* 구체적인 학교인 덕성여자대학교는 대학교라는 클래스의 한 경우 : 인스턴스\n",
    "* 마찬가지로 서울대학교도 대학교라는 클래스의 한 경우이므로 인스턴스\n",
    "* '대학교'를 나타내는 특징들 예를 들어 4년 동안 재학, 여러 단과대학으로 구성되고 각 단과대학은 여러 학과들로 구성됨.\n",
    "* 즉, 대학교라는 클래스의 특징들을 미리 지정해 놓으면 구체적인 인스턴스인 덕성여자대학교의 특징들은 어렵지 않게 정의될 수 있음.\n",
    "* 이 때, 대학교의 특징을 나타내는 재학기간, 단과대학 : 메서드"
   ]
  },
  {
   "cell_type": "markdown",
   "id": "aa4843f4",
   "metadata": {},
   "source": [
    "* class라는 형태를 이용해 클래스를 정의하고, 그 안에 들여쓰기를 통해 특징들(변수나 함수인 메서드. 이 둘을 attributes라고 표현)을 정의(def)"
   ]
  },
  {
   "cell_type": "code",
   "execution_count": 89,
   "id": "2b7fe0d2",
   "metadata": {},
   "outputs": [],
   "source": [
    "class University:     \n",
    "    duration = '4 years'\n",
    "    def department(self):             \n",
    "            return \"Statistics\""
   ]
  },
  {
   "cell_type": "markdown",
   "id": "bf4c44aa",
   "metadata": {},
   "source": [
    "* 위와 같이 대학교라는 클래스를 만들고, 대학교의 특징으로 통계학과라는 학과를 부여. 즉 대학교에는 통계학과라는 학과가 존재하는 특징을 가짐.\n",
    "* 이렇게 정의된 대학교 클래스를 이용해서 덕성여자대학교라는 인스턴스를 정의할 수 있음.\n",
    "* 이 때, 덕성여자대학교 역시 대학교이므로 통계학과라는 학과가 존재하게 됨.\n",
    "* 이러한 통계학과라는 특징을 확인하기 위해서 .을 사용하여 '덕성여자대학교.duration()' 또는 '덕성여자대학교.department()'\n",
    "* self의 경우 인스턴스를 만들 경우 사용되는 인자"
   ]
  },
  {
   "cell_type": "code",
   "execution_count": 104,
   "id": "51c665cc",
   "metadata": {},
   "outputs": [
    {
     "data": {
      "text/plain": [
       "'Statistics'"
      ]
     },
     "execution_count": 104,
     "metadata": {},
     "output_type": "execute_result"
    }
   ],
   "source": [
    "덕성여자대학교 = University()\n",
    "덕성여자대학교.department()"
   ]
  },
  {
   "cell_type": "code",
   "execution_count": 106,
   "id": "b9d67da0",
   "metadata": {},
   "outputs": [
    {
     "data": {
      "text/plain": [
       "'4 years'"
      ]
     },
     "execution_count": 106,
     "metadata": {},
     "output_type": "execute_result"
    }
   ],
   "source": [
    "덕성여자대학교.duration"
   ]
  },
  {
   "cell_type": "code",
   "execution_count": 108,
   "id": "0bdd3021",
   "metadata": {},
   "outputs": [],
   "source": [
    "class HighSchool:\n",
    "    graduation = 'yes'\n",
    "    def duration(self):             \n",
    "            return \"3 years\""
   ]
  },
  {
   "cell_type": "code",
   "execution_count": 110,
   "id": "b5c3bb77",
   "metadata": {},
   "outputs": [
    {
     "data": {
      "text/plain": [
       "'yes'"
      ]
     },
     "execution_count": 110,
     "metadata": {},
     "output_type": "execute_result"
    }
   ],
   "source": [
    "school = HighSchool()\n",
    "school.graduation"
   ]
  },
  {
   "cell_type": "code",
   "execution_count": 112,
   "id": "c049d695",
   "metadata": {},
   "outputs": [
    {
     "data": {
      "text/plain": [
       "'3 years'"
      ]
     },
     "execution_count": 112,
     "metadata": {},
     "output_type": "execute_result"
    }
   ],
   "source": [
    "school.duration()"
   ]
  },
  {
   "cell_type": "markdown",
   "id": "f7e92cde",
   "metadata": {},
   "source": [
    "# 변수(variable), 리스트(list), 딕셔너리(dictionary)"
   ]
  },
  {
   "cell_type": "markdown",
   "id": "ffaef06e",
   "metadata": {},
   "source": [
    "### 변수\n",
    "* 변수는 어떤한 값을 저장하는 메모리 공간\n",
    "* 저장하려는 값의 형태의 따라 다양한 종류의 변수\n",
    "* 불형(Boolean, True or False), 정수형, 실수형, 문자열"
   ]
  },
  {
   "cell_type": "code",
   "execution_count": 116,
   "id": "aedefd04",
   "metadata": {},
   "outputs": [],
   "source": [
    "boolvar = True\n",
    "intvar = 0\n",
    "floatvar = 3.0\n",
    "strvar = \"안녕\""
   ]
  },
  {
   "cell_type": "markdown",
   "id": "051573a4",
   "metadata": {},
   "source": [
    "* 여러 변수에 값을 지정할 때, 다음과 같이 한 번에 정의할 수 있다."
   ]
  },
  {
   "cell_type": "code",
   "execution_count": 119,
   "id": "7b8f8b93",
   "metadata": {},
   "outputs": [
    {
     "name": "stdout",
     "output_type": "stream",
     "text": [
      "True\n",
      "0\n",
      "3.0\n",
      "안녕\n"
     ]
    }
   ],
   "source": [
    "boolvar2, intvar2, floatvar2, strvar2 = True, 0, 3.0, \"안녕\"\n",
    "print(boolvar2);print(intvar2);print(floatvar2);print(strvar2)"
   ]
  },
  {
   "cell_type": "code",
   "execution_count": 121,
   "id": "fc2549c4",
   "metadata": {},
   "outputs": [
    {
     "data": {
      "text/plain": [
       "bool"
      ]
     },
     "execution_count": 121,
     "metadata": {},
     "output_type": "execute_result"
    }
   ],
   "source": [
    "type(boolvar)"
   ]
  },
  {
   "cell_type": "code",
   "execution_count": 123,
   "id": "8f873464",
   "metadata": {},
   "outputs": [
    {
     "data": {
      "text/plain": [
       "float"
      ]
     },
     "execution_count": 123,
     "metadata": {},
     "output_type": "execute_result"
    }
   ],
   "source": [
    "type(floatvar2)"
   ]
  },
  {
   "cell_type": "markdown",
   "id": "0d6765eb",
   "metadata": {},
   "source": [
    "* 변수의 사용\n",
    "    - 변수에 값을 대입해 새로운 값으로 변경\n",
    "    - 변수에 변수를 대입\n",
    "    - 숫자끼리 연산한 결과를 대입\n",
    "    - 변수와 숫자를 연산한 결과를 대입\n",
    "    - 연산결과를 자신의 값에 다시 대입"
   ]
  },
  {
   "cell_type": "code",
   "execution_count": 126,
   "id": "f39278b1",
   "metadata": {},
   "outputs": [
    {
     "name": "stdout",
     "output_type": "stream",
     "text": [
      "False\n"
     ]
    }
   ],
   "source": [
    "boolvar2 = False\n",
    "print(boolvar2)"
   ]
  },
  {
   "cell_type": "code",
   "execution_count": 128,
   "id": "3dc3305b",
   "metadata": {},
   "outputs": [
    {
     "name": "stdout",
     "output_type": "stream",
     "text": [
      "300\n"
     ]
    }
   ],
   "source": [
    "value = 300\n",
    "value2 = value\n",
    "print(value2)"
   ]
  },
  {
   "cell_type": "code",
   "execution_count": 130,
   "id": "490e931e",
   "metadata": {},
   "outputs": [
    {
     "name": "stdout",
     "output_type": "stream",
     "text": [
      "1.2\n"
     ]
    }
   ],
   "source": [
    "value3 = 3*2/5\n",
    "print(value3)"
   ]
  },
  {
   "cell_type": "code",
   "execution_count": 132,
   "id": "7891d476",
   "metadata": {},
   "outputs": [
    {
     "name": "stdout",
     "output_type": "stream",
     "text": [
      "6.0\n"
     ]
    }
   ],
   "source": [
    "value4 = value3 * 5\n",
    "print(value4)"
   ]
  },
  {
   "cell_type": "code",
   "execution_count": 134,
   "id": "51dba357",
   "metadata": {},
   "outputs": [
    {
     "name": "stdout",
     "output_type": "stream",
     "text": [
      "600.0\n",
      "600.0\n"
     ]
    }
   ],
   "source": [
    "value4 = value4 * 100\n",
    "print(value4)\n",
    "value4 = value3 * 5\n",
    "value4 *= 100\n",
    "print(value4)"
   ]
  },
  {
   "cell_type": "markdown",
   "id": "588f8426",
   "metadata": {},
   "source": [
    "### 리스트\n",
    "* 리스트는 변수들을 한 줄로 이어 붙여놓은 개념\n",
    "* 만약 변수 a, b, c가 있을 때, 리스트는 [a,b,c]\n",
    "* 리스트의 변수는 0번부터 시작, 즉 list = [a,b,c]라고 정의할 때, list[0] = a, list[1] = b, list[2] = c"
   ]
  },
  {
   "cell_type": "code",
   "execution_count": 137,
   "id": "1fffff69",
   "metadata": {},
   "outputs": [
    {
     "name": "stdout",
     "output_type": "stream",
     "text": [
      "[1, 2, 5, 7]\n"
     ]
    }
   ],
   "source": [
    "a, b, c, d = 1, 2, 5, 7\n",
    "abcd = [a,b,c,d] # or abcd = [1, 2, 5, 7]\n",
    "print(abcd)"
   ]
  },
  {
   "cell_type": "code",
   "execution_count": 139,
   "id": "777e56e8",
   "metadata": {},
   "outputs": [
    {
     "name": "stdout",
     "output_type": "stream",
     "text": [
      "1\n",
      "7\n"
     ]
    },
    {
     "ename": "IndexError",
     "evalue": "list index out of range",
     "output_type": "error",
     "traceback": [
      "\u001b[1;31m---------------------------------------------------------------------------\u001b[0m",
      "\u001b[1;31mIndexError\u001b[0m                                Traceback (most recent call last)",
      "Cell \u001b[1;32mIn[139], line 1\u001b[0m\n\u001b[1;32m----> 1\u001b[0m \u001b[38;5;28mprint\u001b[39m(abcd[\u001b[38;5;241m0\u001b[39m]); \u001b[38;5;28mprint\u001b[39m(abcd[\u001b[38;5;241m3\u001b[39m]); \u001b[38;5;28mprint\u001b[39m(abcd[\u001b[38;5;241m4\u001b[39m])\n",
      "\u001b[1;31mIndexError\u001b[0m: list index out of range"
     ]
    }
   ],
   "source": [
    "print(abcd[0]); print(abcd[3]); print(abcd[4])"
   ]
  },
  {
   "cell_type": "markdown",
   "id": "7164dcd1",
   "metadata": {},
   "source": [
    "### 리스트의 형태"
   ]
  },
  {
   "cell_type": "code",
   "execution_count": 142,
   "id": "430f7e0d",
   "metadata": {},
   "outputs": [],
   "source": [
    "a = []\n",
    "b = [1,2,3]\n",
    "c = [1, 2, 'Hello', 4]\n",
    "d = [1, 2, 3, ['a','b','c']]"
   ]
  },
  {
   "cell_type": "markdown",
   "id": "d85095b2",
   "metadata": {},
   "source": [
    "* 리스트 안의 성분들의 index\n",
    "    - 0번부터 시작. 즉 b의 첫 번째 성분은 b[0]\n",
    "    - 마지막 성분의 index는 -1, 즉 b의 마지막 성분은 b[-1]\n",
    "    - 리스트의 성분으로 또 다른 리스트가 저장된 이중리스트의 성분들은 이중 index를 사용하여 표현"
   ]
  },
  {
   "cell_type": "code",
   "execution_count": 145,
   "id": "72122e15",
   "metadata": {},
   "outputs": [
    {
     "name": "stdout",
     "output_type": "stream",
     "text": [
      "1\n",
      "3\n"
     ]
    }
   ],
   "source": [
    "b_first = b[0]\n",
    "b_last = b[-1]\n",
    "print(b_first);print(b_last)"
   ]
  },
  {
   "cell_type": "code",
   "execution_count": 147,
   "id": "b908583c",
   "metadata": {},
   "outputs": [
    {
     "data": {
      "text/plain": [
       "['a', 'b', 'c']"
      ]
     },
     "execution_count": 147,
     "metadata": {},
     "output_type": "execute_result"
    }
   ],
   "source": [
    "d[-1]"
   ]
  },
  {
   "cell_type": "code",
   "execution_count": 149,
   "id": "6191e751",
   "metadata": {},
   "outputs": [
    {
     "name": "stdout",
     "output_type": "stream",
     "text": [
      "a\n",
      "a\n"
     ]
    }
   ],
   "source": [
    "print(d[-1][0])\n",
    "d_last_first = d[3][0]\n",
    "print(d_last_first)"
   ]
  },
  {
   "cell_type": "code",
   "execution_count": 151,
   "id": "5dd607cd",
   "metadata": {},
   "outputs": [
    {
     "data": {
      "text/plain": [
       "'c'"
      ]
     },
     "execution_count": 151,
     "metadata": {},
     "output_type": "execute_result"
    }
   ],
   "source": [
    "d[-1][-1]"
   ]
  },
  {
   "cell_type": "markdown",
   "id": "92ea54a1",
   "metadata": {},
   "source": [
    "* 리스트의 특정 성분들 골라내기(slicing)\n",
    "    - :(콜론)을 기준으로 왼쪽은 시작지점의 다음 값(0부터 시작), 오른쪽은 끝나는 지점\n",
    "    - 즉, c[1:3] 이면 리스트 c의 2번째 성분부터 3번째 성분까지\n",
    "    - : 왼쪽 값을 지정하지 않으면 처음부터. 즉 c[:2]는 처음부터 2번째 성분까지\n",
    "    - : 오른쪽 값을 지정하지 않으면 마지막까지, c[1:]은 2번째 성분부터 마지막까지"
   ]
  },
  {
   "cell_type": "code",
   "execution_count": 154,
   "id": "738f9314",
   "metadata": {},
   "outputs": [
    {
     "data": {
      "text/plain": [
       "[2, 'Hello']"
      ]
     },
     "execution_count": 154,
     "metadata": {},
     "output_type": "execute_result"
    }
   ],
   "source": [
    "c[1:3]"
   ]
  },
  {
   "cell_type": "code",
   "execution_count": 156,
   "id": "4d9d8a0f",
   "metadata": {},
   "outputs": [
    {
     "data": {
      "text/plain": [
       "[2]"
      ]
     },
     "execution_count": 156,
     "metadata": {},
     "output_type": "execute_result"
    }
   ],
   "source": [
    "c[1:2]"
   ]
  },
  {
   "cell_type": "code",
   "execution_count": 158,
   "id": "2f21f349",
   "metadata": {},
   "outputs": [
    {
     "data": {
      "text/plain": [
       "[1, 2]"
      ]
     },
     "execution_count": 158,
     "metadata": {},
     "output_type": "execute_result"
    }
   ],
   "source": [
    "c[0:2]"
   ]
  },
  {
   "cell_type": "code",
   "execution_count": 160,
   "id": "90cc4ebd",
   "metadata": {},
   "outputs": [
    {
     "data": {
      "text/plain": [
       "[1, 2]"
      ]
     },
     "execution_count": 160,
     "metadata": {},
     "output_type": "execute_result"
    }
   ],
   "source": [
    "c[:2]"
   ]
  },
  {
   "cell_type": "code",
   "execution_count": 162,
   "id": "669e30bc",
   "metadata": {},
   "outputs": [
    {
     "data": {
      "text/plain": [
       "[2, 'Hello', 4]"
      ]
     },
     "execution_count": 162,
     "metadata": {},
     "output_type": "execute_result"
    }
   ],
   "source": [
    "c[1:]"
   ]
  },
  {
   "cell_type": "code",
   "execution_count": 164,
   "id": "160beb9f",
   "metadata": {},
   "outputs": [
    {
     "data": {
      "text/plain": [
       "['a', 'b']"
      ]
     },
     "execution_count": 164,
     "metadata": {},
     "output_type": "execute_result"
    }
   ],
   "source": [
    "d[-1][:2]"
   ]
  },
  {
   "cell_type": "markdown",
   "id": "91163da2",
   "metadata": {},
   "source": [
    "* 리스트 연산\n",
    "    - ' + ' 기호는 성분들의 더하기가 아니라 리스트를 이어붙여서 새로운 하나의 리스트를 만들게됨. 따라서 '리스트 + 리스트' 형태\n",
    "    - ' * ' 기호는 리스트를 반복. 따라서 ' 리스트 * 정수 ' 형태로 작성"
   ]
  },
  {
   "cell_type": "code",
   "execution_count": 167,
   "id": "e7354e5b",
   "metadata": {},
   "outputs": [
    {
     "data": {
      "text/plain": [
       "[1, 2, 3, 1, 2, 'Hello', 4]"
      ]
     },
     "execution_count": 167,
     "metadata": {},
     "output_type": "execute_result"
    }
   ],
   "source": [
    "b + c"
   ]
  },
  {
   "cell_type": "code",
   "execution_count": 169,
   "id": "addbc57f",
   "metadata": {},
   "outputs": [
    {
     "ename": "TypeError",
     "evalue": "can only concatenate list (not \"int\") to list",
     "output_type": "error",
     "traceback": [
      "\u001b[1;31m---------------------------------------------------------------------------\u001b[0m",
      "\u001b[1;31mTypeError\u001b[0m                                 Traceback (most recent call last)",
      "Cell \u001b[1;32mIn[169], line 1\u001b[0m\n\u001b[1;32m----> 1\u001b[0m \u001b[43mb\u001b[49m\u001b[43m \u001b[49m\u001b[38;5;241;43m+\u001b[39;49m\u001b[43m \u001b[49m\u001b[38;5;241;43m3\u001b[39;49m\n",
      "\u001b[1;31mTypeError\u001b[0m: can only concatenate list (not \"int\") to list"
     ]
    }
   ],
   "source": [
    "b + 3"
   ]
  },
  {
   "cell_type": "code",
   "execution_count": 171,
   "id": "4e849704",
   "metadata": {},
   "outputs": [
    {
     "data": {
      "text/plain": [
       "[1, 2, 3, 1, 2, 3]"
      ]
     },
     "execution_count": 171,
     "metadata": {},
     "output_type": "execute_result"
    }
   ],
   "source": [
    "b * 2"
   ]
  },
  {
   "cell_type": "code",
   "execution_count": 173,
   "id": "77eef369",
   "metadata": {},
   "outputs": [
    {
     "ename": "TypeError",
     "evalue": "can't multiply sequence by non-int of type 'list'",
     "output_type": "error",
     "traceback": [
      "\u001b[1;31m---------------------------------------------------------------------------\u001b[0m",
      "\u001b[1;31mTypeError\u001b[0m                                 Traceback (most recent call last)",
      "Cell \u001b[1;32mIn[173], line 1\u001b[0m\n\u001b[1;32m----> 1\u001b[0m \u001b[43mb\u001b[49m\u001b[43m \u001b[49m\u001b[38;5;241;43m*\u001b[39;49m\u001b[43m \u001b[49m\u001b[43mc\u001b[49m\n",
      "\u001b[1;31mTypeError\u001b[0m: can't multiply sequence by non-int of type 'list'"
     ]
    }
   ],
   "source": [
    "b * c"
   ]
  },
  {
   "cell_type": "markdown",
   "id": "b60181ab",
   "metadata": {},
   "source": [
    "* 리스트의 수정과 삭제\n",
    "     - 리스트의 성분을 다른 값으로 대체하여 수정\n",
    "     - del 함수를 이용하여 리스트 성분 삭제"
   ]
  },
  {
   "cell_type": "code",
   "execution_count": 176,
   "id": "f082d2a6",
   "metadata": {},
   "outputs": [
    {
     "name": "stdout",
     "output_type": "stream",
     "text": [
      "[1, 2, 3, 4]\n",
      "[1, 10, 3, 4]\n"
     ]
    }
   ],
   "source": [
    "a = [1, 2, 3, 4]\n",
    "print(a)\n",
    "a[1] = 10\n",
    "print(a)"
   ]
  },
  {
   "cell_type": "code",
   "execution_count": 178,
   "id": "309572f8",
   "metadata": {},
   "outputs": [
    {
     "name": "stdout",
     "output_type": "stream",
     "text": [
      "[1, 3, 4]\n"
     ]
    }
   ],
   "source": [
    "del a[1]\n",
    "print(a)"
   ]
  },
  {
   "cell_type": "code",
   "execution_count": 180,
   "id": "941ea40f",
   "metadata": {},
   "outputs": [
    {
     "name": "stdout",
     "output_type": "stream",
     "text": [
      "[1]\n"
     ]
    }
   ],
   "source": [
    "del a[1:]\n",
    "print(a)"
   ]
  },
  {
   "cell_type": "code",
   "execution_count": 182,
   "id": "9aeb0349",
   "metadata": {},
   "outputs": [
    {
     "data": {
      "text/plain": [
       "1"
      ]
     },
     "execution_count": 182,
     "metadata": {},
     "output_type": "execute_result"
    }
   ],
   "source": [
    "len(a)"
   ]
  },
  {
   "cell_type": "code",
   "execution_count": 184,
   "id": "49deb29c",
   "metadata": {},
   "outputs": [
    {
     "ename": "NameError",
     "evalue": "name 'a' is not defined",
     "output_type": "error",
     "traceback": [
      "\u001b[1;31m---------------------------------------------------------------------------\u001b[0m",
      "\u001b[1;31mNameError\u001b[0m                                 Traceback (most recent call last)",
      "Cell \u001b[1;32mIn[184], line 2\u001b[0m\n\u001b[0;32m      1\u001b[0m \u001b[38;5;28;01mdel\u001b[39;00m a\n\u001b[1;32m----> 2\u001b[0m \u001b[43ma\u001b[49m\n",
      "\u001b[1;31mNameError\u001b[0m: name 'a' is not defined"
     ]
    }
   ],
   "source": [
    "del a\n",
    "a"
   ]
  },
  {
   "cell_type": "markdown",
   "id": "e3037eba",
   "metadata": {},
   "source": [
    "* 리스트는 하나의 클래스. 즉, 여러 특징들 또는 함수들이 리스트라는 클래스에 포함됨.\n",
    "* 예를 들어, 리스트에는 새로운 값들을 추가하거나 제거할 수 있는 특징(함수형태 : attributes)들이 정의되어있으며 이러한 함수를 불러오기 위해서는 \n",
    "> 리스트.함수  "
   ]
  },
  {
   "cell_type": "markdown",
   "id": "97474a13",
   "metadata": {},
   "source": [
    "* 리스트에 성분 추가(append)\n",
    "    - list.append(x) : list라는 이름의 리스트의 마지막에 x를 추가"
   ]
  },
  {
   "cell_type": "code",
   "execution_count": 188,
   "id": "14624a02",
   "metadata": {},
   "outputs": [
    {
     "name": "stdout",
     "output_type": "stream",
     "text": [
      "[]\n"
     ]
    }
   ],
   "source": [
    "aa = []\n",
    "print(aa)"
   ]
  },
  {
   "cell_type": "code",
   "execution_count": 190,
   "id": "45a6d6ab",
   "metadata": {},
   "outputs": [
    {
     "data": {
      "text/plain": [
       "['__add__',\n",
       " '__class__',\n",
       " '__class_getitem__',\n",
       " '__contains__',\n",
       " '__delattr__',\n",
       " '__delitem__',\n",
       " '__dir__',\n",
       " '__doc__',\n",
       " '__eq__',\n",
       " '__format__',\n",
       " '__ge__',\n",
       " '__getattribute__',\n",
       " '__getitem__',\n",
       " '__gt__',\n",
       " '__hash__',\n",
       " '__iadd__',\n",
       " '__imul__',\n",
       " '__init__',\n",
       " '__init_subclass__',\n",
       " '__iter__',\n",
       " '__le__',\n",
       " '__len__',\n",
       " '__lt__',\n",
       " '__mul__',\n",
       " '__ne__',\n",
       " '__new__',\n",
       " '__reduce__',\n",
       " '__reduce_ex__',\n",
       " '__repr__',\n",
       " '__reversed__',\n",
       " '__rmul__',\n",
       " '__setattr__',\n",
       " '__setitem__',\n",
       " '__sizeof__',\n",
       " '__str__',\n",
       " '__subclasshook__',\n",
       " 'append',\n",
       " 'clear',\n",
       " 'copy',\n",
       " 'count',\n",
       " 'extend',\n",
       " 'index',\n",
       " 'insert',\n",
       " 'pop',\n",
       " 'remove',\n",
       " 'reverse',\n",
       " 'sort']"
      ]
     },
     "execution_count": 190,
     "metadata": {},
     "output_type": "execute_result"
    }
   ],
   "source": [
    "dir(aa)"
   ]
  },
  {
   "cell_type": "code",
   "execution_count": 192,
   "id": "a86fea3c",
   "metadata": {},
   "outputs": [
    {
     "data": {
      "text/plain": [
       "[3, 1, 8]"
      ]
     },
     "execution_count": 192,
     "metadata": {},
     "output_type": "execute_result"
    }
   ],
   "source": [
    "aa.append(3)\n",
    "aa.append(1)\n",
    "aa.append(8)\n",
    "aa"
   ]
  },
  {
   "cell_type": "code",
   "execution_count": 194,
   "id": "b87c94c9",
   "metadata": {},
   "outputs": [
    {
     "ename": "TypeError",
     "evalue": "list.append() takes exactly one argument (2 given)",
     "output_type": "error",
     "traceback": [
      "\u001b[1;31m---------------------------------------------------------------------------\u001b[0m",
      "\u001b[1;31mTypeError\u001b[0m                                 Traceback (most recent call last)",
      "Cell \u001b[1;32mIn[194], line 1\u001b[0m\n\u001b[1;32m----> 1\u001b[0m \u001b[43maa\u001b[49m\u001b[38;5;241;43m.\u001b[39;49m\u001b[43mappend\u001b[49m\u001b[43m(\u001b[49m\u001b[38;5;241;43m7\u001b[39;49m\u001b[43m,\u001b[49m\u001b[43m \u001b[49m\u001b[38;5;241;43m1000\u001b[39;49m\u001b[43m)\u001b[49m\n\u001b[0;32m      2\u001b[0m aa\n",
      "\u001b[1;31mTypeError\u001b[0m: list.append() takes exactly one argument (2 given)"
     ]
    }
   ],
   "source": [
    "aa.append(7, 1000)\n",
    "aa"
   ]
  },
  {
   "cell_type": "code",
   "execution_count": 196,
   "id": "a285850c",
   "metadata": {},
   "outputs": [
    {
     "data": {
      "text/plain": [
       "[3, 1, 8, [7, 100]]"
      ]
     },
     "execution_count": 196,
     "metadata": {},
     "output_type": "execute_result"
    }
   ],
   "source": [
    "aa.append([7, 100])\n",
    "aa"
   ]
  },
  {
   "cell_type": "markdown",
   "id": "e7a21e3d",
   "metadata": {},
   "source": [
    "* 리스트에 여러 값을 넣고 싶을 때\n",
    "    - list.extent([])"
   ]
  },
  {
   "cell_type": "code",
   "execution_count": 199,
   "id": "1048d937",
   "metadata": {},
   "outputs": [
    {
     "data": {
      "text/plain": [
       "[3, 1, 8, [7, 100], 1, 3, 4, 5]"
      ]
     },
     "execution_count": 199,
     "metadata": {},
     "output_type": "execute_result"
    }
   ],
   "source": [
    "aa.extend([1,3,4,5])\n",
    "aa"
   ]
  },
  {
   "cell_type": "markdown",
   "id": "805a086a",
   "metadata": {},
   "source": [
    "* 리스트 정렬(sort)"
   ]
  },
  {
   "cell_type": "code",
   "execution_count": 205,
   "id": "19ff03bd",
   "metadata": {},
   "outputs": [
    {
     "name": "stdout",
     "output_type": "stream",
     "text": [
      "[1, 3, 8, 1, 3, 4]\n"
     ]
    },
    {
     "data": {
      "text/plain": [
       "[1, 1, 3, 3, 4, 8]"
      ]
     },
     "execution_count": 205,
     "metadata": {},
     "output_type": "execute_result"
    }
   ],
   "source": [
    "del aa[-4]\n",
    "print(aa)\n",
    "aa.sort()\n",
    "aa"
   ]
  },
  {
   "cell_type": "markdown",
   "id": "35a001cc",
   "metadata": {},
   "source": [
    "* 리스트의 성분들을 역순으로 정렬(reverse)"
   ]
  },
  {
   "cell_type": "code",
   "execution_count": 208,
   "id": "f00b47cf",
   "metadata": {},
   "outputs": [
    {
     "data": {
      "text/plain": [
       "[8, 4, 3, 3, 1, 1]"
      ]
     },
     "execution_count": 208,
     "metadata": {},
     "output_type": "execute_result"
    }
   ],
   "source": [
    "aa.reverse()\n",
    "aa"
   ]
  },
  {
   "cell_type": "markdown",
   "id": "2e09fbc2",
   "metadata": {},
   "source": [
    "* 리스트의 특정 성분이 어디에 있는지 위치 반환(index)"
   ]
  },
  {
   "cell_type": "code",
   "execution_count": 211,
   "id": "891bb20e",
   "metadata": {},
   "outputs": [
    {
     "data": {
      "text/plain": [
       "0"
      ]
     },
     "execution_count": 211,
     "metadata": {},
     "output_type": "execute_result"
    }
   ],
   "source": [
    "aa.index(8)"
   ]
  },
  {
   "cell_type": "markdown",
   "id": "89a71780",
   "metadata": {},
   "source": [
    "* 리스트에 성분 삽입(insert), 성분 제거(remove)\n",
    "    - list.insert(0, 5) : list라는 리스트의 0번(첫 번째 성분)에 5라는 값을 삽입\n",
    "    - list.remove(5) : list라는 리스트 성분 중 5 값을 가지는 것을 제거. 동시에 여러개의 5가 있을 경우 가장 먼저 나오는 5를 삭제 "
   ]
  },
  {
   "cell_type": "code",
   "execution_count": 214,
   "id": "ceb5f5ce",
   "metadata": {},
   "outputs": [],
   "source": [
    "ㅁ = [2, 3, 5, 3, 7, 6, 3]"
   ]
  },
  {
   "cell_type": "code",
   "execution_count": 216,
   "id": "16cb8fbc",
   "metadata": {},
   "outputs": [
    {
     "data": {
      "text/plain": [
       "[5, 2, 3, 5, 3, 7, 6, 3]"
      ]
     },
     "execution_count": 216,
     "metadata": {},
     "output_type": "execute_result"
    }
   ],
   "source": [
    "ㅁ.insert(0,5)\n",
    "ㅁ"
   ]
  },
  {
   "cell_type": "code",
   "execution_count": 218,
   "id": "24763fd5",
   "metadata": {},
   "outputs": [
    {
     "data": {
      "text/plain": [
       "[2, 3, 5, 3, 7, 6, 3]"
      ]
     },
     "execution_count": 218,
     "metadata": {},
     "output_type": "execute_result"
    }
   ],
   "source": [
    "ㅁ.remove(5)\n",
    "ㅁ"
   ]
  },
  {
   "cell_type": "markdown",
   "id": "d2ff95b5",
   "metadata": {},
   "source": [
    "* 리스트에 포함된 성분의 개수 세기(count)\n",
    "    - list.count(3) : list라는 리스트 안에 3의 값을 가지는 성분이 몇 개인지 확인"
   ]
  },
  {
   "cell_type": "code",
   "execution_count": 221,
   "id": "82f5b9e3",
   "metadata": {},
   "outputs": [
    {
     "data": {
      "text/plain": [
       "3"
      ]
     },
     "execution_count": 221,
     "metadata": {},
     "output_type": "execute_result"
    }
   ],
   "source": [
    "ㅁ.count(3)"
   ]
  },
  {
   "cell_type": "markdown",
   "id": "3eec8b99",
   "metadata": {},
   "source": [
    "aa.+tab 을 누르면 리스트라는 클래스로 정의된 aa에 사용할 수 있는 특징(함수)들을 확인할 수 있음."
   ]
  }
 ],
 "metadata": {
  "kernelspec": {
   "display_name": "Python 3 (ipykernel)",
   "language": "python",
   "name": "python3"
  },
  "language_info": {
   "codemirror_mode": {
    "name": "ipython",
    "version": 3
   },
   "file_extension": ".py",
   "mimetype": "text/x-python",
   "name": "python",
   "nbconvert_exporter": "python",
   "pygments_lexer": "ipython3",
   "version": "3.10.9"
  }
 },
 "nbformat": 4,
 "nbformat_minor": 5
}
