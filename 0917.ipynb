{
 "cells": [
  {
   "cell_type": "markdown",
   "id": "c56141f9-7d1b-438e-a04d-e587df1acb27",
   "metadata": {},
   "source": [
    "예제. 특정한 x에 대해서 x가 소수인지 확인하는 코드"
   ]
  },
  {
   "cell_type": "code",
   "execution_count": 2,
   "id": "4449142e-5faa-4c2e-abe9-f7387b80c751",
   "metadata": {},
   "outputs": [
    {
     "name": "stdout",
     "output_type": "stream",
     "text": [
      "x는 소수가 아니다\n"
     ]
    }
   ],
   "source": [
    "x = 10\n",
    "\n",
    "remainder = 0\n",
    "for prime in range(2,x):    \n",
    "    if x % prime != 0 :        \n",
    "        remainder += 1\n",
    "        \n",
    "Is_x_the_prime_number = \"x는 소수이다\" if remainder == (x-2) else \"x는 소수가 아니다\"\n",
    "print(Is_x_the_prime_number)"
   ]
  },
  {
   "cell_type": "markdown",
   "id": "47ef7c5a-e394-41c6-854b-94b856428200",
   "metadata": {},
   "source": [
    "**예제1. 2부터 1000까지 중 소수가 몇 개인지 찾는 코드를 작성하여라.**"
   ]
  },
  {
   "cell_type": "code",
   "execution_count": 4,
   "id": "1dd02399-bc6e-4bae-a066-7ea23c19ca7d",
   "metadata": {},
   "outputs": [
    {
     "name": "stdout",
     "output_type": "stream",
     "text": [
      "168\n"
     ]
    }
   ],
   "source": [
    "prime_count = 0\n",
    "for x in range(2,1001):\n",
    "    remainder = 0    \n",
    "    for prime in range(2,x):    \n",
    "        if x % prime != 0 :        \n",
    "            remainder += 1    \n",
    "    if remainder == (x-2):\n",
    "        prime_count += 1\n",
    "    \n",
    "print(prime_count)"
   ]
  },
  {
   "cell_type": "markdown",
   "id": "f47a0e63",
   "metadata": {},
   "source": [
    "* while을 이용한 반복문 : while 뒤의 조건이 만족하는 동안 반복해서 실행"
   ]
  },
  {
   "cell_type": "code",
   "execution_count": 6,
   "id": "dcf5a58d",
   "metadata": {},
   "outputs": [
    {
     "name": "stdout",
     "output_type": "stream",
     "text": [
      "0 less than 5\n",
      "1 less than 5\n",
      "2 less than 5\n",
      "3 less than 5\n",
      "4 less than 5\n"
     ]
    }
   ],
   "source": [
    "count = 0\n",
    "while count < 5:\n",
    "    print(count, 'less than 5')\n",
    "    count += 1"
   ]
  },
  {
   "cell_type": "markdown",
   "id": "ded304f0",
   "metadata": {},
   "source": [
    "* for/while에 의한 반복 과정에서 특정 조건을 만족하면 반복이 종료 : break"
   ]
  },
  {
   "cell_type": "code",
   "execution_count": 8,
   "id": "e0416228",
   "metadata": {},
   "outputs": [
    {
     "name": "stdout",
     "output_type": "stream",
     "text": [
      "1\n",
      "2\n",
      "3\n",
      "4\n",
      "5\n",
      "6\n",
      "7\n",
      "8\n",
      "9\n",
      "10\n"
     ]
    }
   ],
   "source": [
    "sum = 0\n",
    "for i in range(20): \n",
    "    sum += 1\n",
    "    print(sum)\n",
    "    if sum == 10:\n",
    "        break"
   ]
  },
  {
   "cell_type": "markdown",
   "id": "59c66b7f",
   "metadata": {},
   "source": [
    "* for/while에 의한 반복 과정에서 특정 조건을 만족하면 코드 실행하지 않고 반복만 진행 : continue"
   ]
  },
  {
   "cell_type": "code",
   "execution_count": 14,
   "id": "fa677c7d",
   "metadata": {},
   "outputs": [
    {
     "name": "stdout",
     "output_type": "stream",
     "text": [
      "1\n",
      "3\n",
      "5\n",
      "7\n",
      "9\n"
     ]
    }
   ],
   "source": [
    "a = 0\n",
    "for i in range(10):\n",
    "    a = a + 1\n",
    "    if a % 2 == 0: \n",
    "        continue\n",
    "    print(a)"
   ]
  },
  {
   "cell_type": "markdown",
   "id": "e10b88eb",
   "metadata": {},
   "source": [
    "**예제2. for를 두 번 사용하는 이중반복을 사용하여 구구단의 결과가 나오게 코드를 작성하여라.**  "
   ]
  },
  {
   "cell_type": "code",
   "execution_count": 17,
   "id": "12f58f4f-623c-40fe-b91d-2f5adc790c9b",
   "metadata": {},
   "outputs": [
    {
     "name": "stdout",
     "output_type": "stream",
     "text": [
      "2 * 2  =  4\n",
      "2 * 3  =  6\n",
      "2 * 4  =  8\n",
      "2 * 5  =  10\n",
      "2 * 6  =  12\n",
      "2 * 7  =  14\n",
      "2 * 8  =  16\n",
      "2 * 9  =  18\n",
      "3 * 2  =  6\n",
      "3 * 3  =  9\n",
      "3 * 4  =  12\n",
      "3 * 5  =  15\n",
      "3 * 6  =  18\n",
      "3 * 7  =  21\n",
      "3 * 8  =  24\n",
      "3 * 9  =  27\n",
      "4 * 2  =  8\n",
      "4 * 3  =  12\n",
      "4 * 4  =  16\n",
      "4 * 5  =  20\n",
      "4 * 6  =  24\n",
      "4 * 7  =  28\n",
      "4 * 8  =  32\n",
      "4 * 9  =  36\n",
      "5 * 2  =  10\n",
      "5 * 3  =  15\n",
      "5 * 4  =  20\n",
      "5 * 5  =  25\n",
      "5 * 6  =  30\n",
      "5 * 7  =  35\n",
      "5 * 8  =  40\n",
      "5 * 9  =  45\n",
      "6 * 2  =  12\n",
      "6 * 3  =  18\n",
      "6 * 4  =  24\n",
      "6 * 5  =  30\n",
      "6 * 6  =  36\n",
      "6 * 7  =  42\n",
      "6 * 8  =  48\n",
      "6 * 9  =  54\n",
      "7 * 2  =  14\n",
      "7 * 3  =  21\n",
      "7 * 4  =  28\n",
      "7 * 5  =  35\n",
      "7 * 6  =  42\n",
      "7 * 7  =  49\n",
      "7 * 8  =  56\n",
      "7 * 9  =  63\n",
      "8 * 2  =  16\n",
      "8 * 3  =  24\n",
      "8 * 4  =  32\n",
      "8 * 5  =  40\n",
      "8 * 6  =  48\n",
      "8 * 7  =  56\n",
      "8 * 8  =  64\n",
      "8 * 9  =  72\n",
      "9 * 2  =  18\n",
      "9 * 3  =  27\n",
      "9 * 4  =  36\n",
      "9 * 5  =  45\n",
      "9 * 6  =  54\n",
      "9 * 7  =  63\n",
      "9 * 8  =  72\n",
      "9 * 9  =  81\n"
     ]
    }
   ],
   "source": [
    "for i in range(2,10):\n",
    "    for j in range(2,10):\n",
    "        print(i, '*', j , ' = ', i*j)"
   ]
  },
  {
   "cell_type": "markdown",
   "id": "6ac22ce4-45bc-4e34-9f53-65b361650276",
   "metadata": {},
   "source": [
    "**예제3. while를 두 번 사용하는 이중반복을 사용하여 구구단의 결과가 나오게 코드를 작성하여라.**"
   ]
  },
  {
   "cell_type": "code",
   "execution_count": 20,
   "id": "b5fbf031-f6a3-4c57-a0a2-47410ce2cffd",
   "metadata": {},
   "outputs": [
    {
     "name": "stdout",
     "output_type": "stream",
     "text": [
      "2 * 2  =  4\n",
      "2 * 3  =  6\n",
      "2 * 4  =  8\n",
      "2 * 5  =  10\n",
      "2 * 6  =  12\n",
      "2 * 7  =  14\n",
      "2 * 8  =  16\n",
      "2 * 9  =  18\n",
      "3 * 2  =  6\n",
      "3 * 3  =  9\n",
      "3 * 4  =  12\n",
      "3 * 5  =  15\n",
      "3 * 6  =  18\n",
      "3 * 7  =  21\n",
      "3 * 8  =  24\n",
      "3 * 9  =  27\n",
      "4 * 2  =  8\n",
      "4 * 3  =  12\n",
      "4 * 4  =  16\n",
      "4 * 5  =  20\n",
      "4 * 6  =  24\n",
      "4 * 7  =  28\n",
      "4 * 8  =  32\n",
      "4 * 9  =  36\n",
      "5 * 2  =  10\n",
      "5 * 3  =  15\n",
      "5 * 4  =  20\n",
      "5 * 5  =  25\n",
      "5 * 6  =  30\n",
      "5 * 7  =  35\n",
      "5 * 8  =  40\n",
      "5 * 9  =  45\n",
      "6 * 2  =  12\n",
      "6 * 3  =  18\n",
      "6 * 4  =  24\n",
      "6 * 5  =  30\n",
      "6 * 6  =  36\n",
      "6 * 7  =  42\n",
      "6 * 8  =  48\n",
      "6 * 9  =  54\n",
      "7 * 2  =  14\n",
      "7 * 3  =  21\n",
      "7 * 4  =  28\n",
      "7 * 5  =  35\n",
      "7 * 6  =  42\n",
      "7 * 7  =  49\n",
      "7 * 8  =  56\n",
      "7 * 9  =  63\n",
      "8 * 2  =  16\n",
      "8 * 3  =  24\n",
      "8 * 4  =  32\n",
      "8 * 5  =  40\n",
      "8 * 6  =  48\n",
      "8 * 7  =  56\n",
      "8 * 8  =  64\n",
      "8 * 9  =  72\n",
      "9 * 2  =  18\n",
      "9 * 3  =  27\n",
      "9 * 4  =  36\n",
      "9 * 5  =  45\n",
      "9 * 6  =  54\n",
      "9 * 7  =  63\n",
      "9 * 8  =  72\n",
      "9 * 9  =  81\n"
     ]
    }
   ],
   "source": [
    "i = 2\n",
    "\n",
    "while i < 10:\n",
    "    j = 2\n",
    "    while j < 10:\n",
    "        print(i, '*', j , ' = ', i*j)        \n",
    "        j += 1\n",
    "    i += 1"
   ]
  },
  {
   "cell_type": "markdown",
   "id": "447e921d",
   "metadata": {},
   "source": [
    "# 클래스(class)와 인스턴스(instance)\n",
    "* 데이터 구조와 계산 로직을 한 군데서 사용할 수 있도록 함께 묶어둔 목록\n",
    "* 클래스 : 데이터와 기능을 함께 묶는 방법을 제공\n",
    "* 인스턴스 : 클래스에 의해 만들어진 객체이며 각자의 값을 가짐\n",
    "* 메서드(method) : 함수와 비슷한 개념으로 클래스에 묶여서 클래스 안에 있는 인스턴스와 관계되는 함수  \n",
    "\n",
    "예.\n",
    "* 덕성여자대학교, 서울대학교, 고려대학교, 성균관대학교 $\\cdots$\n",
    "* 이 학교들은 모두 '대학교'라는 공통적인 특징을 가짐.\n",
    "* 이 때 대학교는 특정 학교를 지칭하는 표현이 아니라, 일반적으로 고등학교를 졸업한 후 진학하여 전공 공부를 하기 위한 학교를 지칭\n",
    "* 여기서 '대학교'는 클래스\n",
    "* 구체적인 학교인 덕성여자대학교는 대학교라는 클래스의 한 경우 : 인스턴스\n",
    "* 마찬가지로 서울대학교도 대학교라는 클래스의 한 경우이므로 인스턴스\n",
    "* '대학교'를 나타내는 특징들 예를 들어 4년 동안 재학, 여러 단과대학으로 구성되고 각 단과대학은 여러 학과들로 구성됨.\n",
    "* 즉, 대학교라는 클래스의 특징들을 미리 지정해 놓으면 구체적인 인스턴스인 덕성여자대학교의 특징들은 어렵지 않게 정의될 수 있음.\n",
    "* 이 때, 대학교의 특징을 나타내는 재학기간, 단과대학 : 메서드"
   ]
  },
  {
   "cell_type": "markdown",
   "id": "aa4843f4",
   "metadata": {},
   "source": [
    "* class라는 형태를 이용해 클래스를 정의하고, 그 안에 들여쓰기를 통해 특징들(변수나 함수인 메서드. 이 둘을 attributes라고 표현)을 정의(def)"
   ]
  },
  {
   "cell_type": "code",
   "execution_count": 24,
   "id": "2b7fe0d2",
   "metadata": {},
   "outputs": [],
   "source": [
    "class University:     \n",
    "    duration = '4 years'\n",
    "    def department(self):             \n",
    "            return \"Statistics\""
   ]
  },
  {
   "cell_type": "markdown",
   "id": "bf4c44aa",
   "metadata": {},
   "source": [
    "* 위와 같이 대학교라는 클래스를 만들고, 대학교의 특징으로 통계학과라는 학과를 부여. 즉 대학교에는 통계학과라는 학과가 존재하는 특징을 가짐.\n",
    "* 이렇게 정의된 대학교 클래스를 이용해서 덕성여자대학교라는 인스턴스를 정의할 수 있음.\n",
    "* 이 때, 덕성여자대학교 역시 대학교이므로 통계학과라는 학과가 존재하게 됨.\n",
    "* 이러한 통계학과라는 특징을 확인하기 위해서 .을 사용하여 '덕성여자대학교.duration()' 또는 '덕성여자대학교.department()'\n",
    "* self의 경우 인스턴스를 만들 경우 사용되는 인자"
   ]
  },
  {
   "cell_type": "code",
   "execution_count": 27,
   "id": "51c665cc",
   "metadata": {},
   "outputs": [
    {
     "data": {
      "text/plain": [
       "'Statistics'"
      ]
     },
     "execution_count": 27,
     "metadata": {},
     "output_type": "execute_result"
    }
   ],
   "source": [
    "덕성여자대학교 = University()\n",
    "덕성여자대학교.department()"
   ]
  },
  {
   "cell_type": "code",
   "execution_count": 29,
   "id": "b9d67da0",
   "metadata": {},
   "outputs": [
    {
     "data": {
      "text/plain": [
       "'4 years'"
      ]
     },
     "execution_count": 29,
     "metadata": {},
     "output_type": "execute_result"
    }
   ],
   "source": [
    "덕성여자대학교.duration"
   ]
  },
  {
   "cell_type": "code",
   "execution_count": 31,
   "id": "0bdd3021",
   "metadata": {},
   "outputs": [],
   "source": [
    "class HighSchool:\n",
    "    graduation = 'yes'\n",
    "    def duration(self):             \n",
    "            return \"3 years\""
   ]
  },
  {
   "cell_type": "code",
   "execution_count": 33,
   "id": "b5c3bb77",
   "metadata": {},
   "outputs": [
    {
     "data": {
      "text/plain": [
       "'yes'"
      ]
     },
     "execution_count": 33,
     "metadata": {},
     "output_type": "execute_result"
    }
   ],
   "source": [
    "school = HighSchool()\n",
    "school.graduation"
   ]
  },
  {
   "cell_type": "code",
   "execution_count": 35,
   "id": "c049d695",
   "metadata": {},
   "outputs": [
    {
     "data": {
      "text/plain": [
       "'3 years'"
      ]
     },
     "execution_count": 35,
     "metadata": {},
     "output_type": "execute_result"
    }
   ],
   "source": [
    "school.duration()"
   ]
  },
  {
   "cell_type": "markdown",
   "id": "f7e92cde",
   "metadata": {},
   "source": [
    "# 변수(variable), 리스트(list), 딕셔너리(dictionary), 튜플(tuple)"
   ]
  },
  {
   "cell_type": "markdown",
   "id": "ffaef06e",
   "metadata": {},
   "source": [
    "### 변수\n",
    "* 변수는 어떤한 값을 저장하는 메모리 공간\n",
    "* 저장하려는 값의 형태의 따라 다양한 종류의 변수\n",
    "* 불형(Boolean, True or False), 정수형, 실수형, 문자열"
   ]
  },
  {
   "cell_type": "code",
   "execution_count": 39,
   "id": "aedefd04",
   "metadata": {},
   "outputs": [],
   "source": [
    "boolvar = True\n",
    "intvar = 0\n",
    "floatvar = 3.0\n",
    "strvar = \"안녕\""
   ]
  },
  {
   "cell_type": "markdown",
   "id": "051573a4",
   "metadata": {},
   "source": [
    "* 여러 변수에 값을 지정할 때, 다음과 같이 한 번에 정의할 수 있다."
   ]
  },
  {
   "cell_type": "code",
   "execution_count": 42,
   "id": "7b8f8b93",
   "metadata": {},
   "outputs": [
    {
     "name": "stdout",
     "output_type": "stream",
     "text": [
      "True\n",
      "0\n",
      "3.0\n",
      "안녕\n"
     ]
    }
   ],
   "source": [
    "boolvar2, intvar2, floatvar2, strvar2 = True, 0, 3.0, \"안녕\"\n",
    "print(boolvar2);print(intvar2);print(floatvar2);print(strvar2)"
   ]
  },
  {
   "cell_type": "code",
   "execution_count": 44,
   "id": "fc2549c4",
   "metadata": {},
   "outputs": [
    {
     "data": {
      "text/plain": [
       "bool"
      ]
     },
     "execution_count": 44,
     "metadata": {},
     "output_type": "execute_result"
    }
   ],
   "source": [
    "type(boolvar)"
   ]
  },
  {
   "cell_type": "code",
   "execution_count": 46,
   "id": "8f873464",
   "metadata": {},
   "outputs": [
    {
     "data": {
      "text/plain": [
       "float"
      ]
     },
     "execution_count": 46,
     "metadata": {},
     "output_type": "execute_result"
    }
   ],
   "source": [
    "type(floatvar2)"
   ]
  },
  {
   "cell_type": "markdown",
   "id": "0d6765eb",
   "metadata": {},
   "source": [
    "* 변수의 사용\n",
    "    - 변수에 값을 대입해 새로운 값으로 변경\n",
    "    - 변수에 변수를 대입\n",
    "    - 숫자끼리 연산한 결과를 대입\n",
    "    - 변수와 숫자를 연산한 결과를 대입\n",
    "    - 연산결과를 자신의 값에 다시 대입"
   ]
  },
  {
   "cell_type": "code",
   "execution_count": 49,
   "id": "f39278b1",
   "metadata": {},
   "outputs": [
    {
     "name": "stdout",
     "output_type": "stream",
     "text": [
      "False\n"
     ]
    }
   ],
   "source": [
    "boolvar2 = False\n",
    "print(boolvar2)"
   ]
  },
  {
   "cell_type": "code",
   "execution_count": 51,
   "id": "3dc3305b",
   "metadata": {},
   "outputs": [
    {
     "name": "stdout",
     "output_type": "stream",
     "text": [
      "300\n"
     ]
    }
   ],
   "source": [
    "value = 300\n",
    "value2 = value\n",
    "print(value2)"
   ]
  },
  {
   "cell_type": "code",
   "execution_count": 53,
   "id": "490e931e",
   "metadata": {},
   "outputs": [
    {
     "name": "stdout",
     "output_type": "stream",
     "text": [
      "1.2\n"
     ]
    }
   ],
   "source": [
    "value3 = 3*2/5\n",
    "print(value3)"
   ]
  },
  {
   "cell_type": "code",
   "execution_count": 55,
   "id": "7891d476",
   "metadata": {},
   "outputs": [
    {
     "name": "stdout",
     "output_type": "stream",
     "text": [
      "6.0\n"
     ]
    }
   ],
   "source": [
    "value4 = value3 * 5\n",
    "print(value4)"
   ]
  },
  {
   "cell_type": "code",
   "execution_count": 57,
   "id": "51dba357",
   "metadata": {},
   "outputs": [
    {
     "name": "stdout",
     "output_type": "stream",
     "text": [
      "600.0\n",
      "600.0\n"
     ]
    }
   ],
   "source": [
    "value4 = value4 * 100\n",
    "print(value4)\n",
    "value4 = value3 * 5\n",
    "value4 *= 100\n",
    "print(value4)"
   ]
  },
  {
   "cell_type": "markdown",
   "id": "588f8426",
   "metadata": {},
   "source": [
    "### 리스트\n",
    "* 리스트는 변수들을 한 줄로 이어 붙여놓은 개념\n",
    "* 만약 변수 a, b, c가 있을 때, 리스트는 [a,b,c]\n",
    "* 리스트의 변수는 0번부터 시작, 즉 list = [a,b,c]라고 정의할 때, list[0] = a, list[1] = b, list[2] = c"
   ]
  },
  {
   "cell_type": "code",
   "execution_count": 60,
   "id": "1fffff69",
   "metadata": {},
   "outputs": [
    {
     "name": "stdout",
     "output_type": "stream",
     "text": [
      "[1, 2, 5, 7]\n"
     ]
    }
   ],
   "source": [
    "a, b, c, d = 1, 2, 5, 7\n",
    "abcd = [a,b,c,d] # or abcd = [1, 2, 5, 7]\n",
    "print(abcd)"
   ]
  },
  {
   "cell_type": "code",
   "execution_count": 62,
   "id": "777e56e8",
   "metadata": {},
   "outputs": [
    {
     "name": "stdout",
     "output_type": "stream",
     "text": [
      "1\n",
      "7\n"
     ]
    },
    {
     "ename": "IndexError",
     "evalue": "list index out of range",
     "output_type": "error",
     "traceback": [
      "\u001b[1;31m---------------------------------------------------------------------------\u001b[0m",
      "\u001b[1;31mIndexError\u001b[0m                                Traceback (most recent call last)",
      "Cell \u001b[1;32mIn[62], line 1\u001b[0m\n\u001b[1;32m----> 1\u001b[0m \u001b[38;5;28mprint\u001b[39m(abcd[\u001b[38;5;241m0\u001b[39m]); \u001b[38;5;28mprint\u001b[39m(abcd[\u001b[38;5;241m3\u001b[39m]); \u001b[38;5;28mprint\u001b[39m(abcd[\u001b[38;5;241m4\u001b[39m])\n",
      "\u001b[1;31mIndexError\u001b[0m: list index out of range"
     ]
    }
   ],
   "source": [
    "print(abcd[0]); print(abcd[3]); print(abcd[4])"
   ]
  },
  {
   "cell_type": "markdown",
   "id": "7164dcd1",
   "metadata": {},
   "source": [
    "### 리스트의 형태"
   ]
  },
  {
   "cell_type": "code",
   "execution_count": 65,
   "id": "430f7e0d",
   "metadata": {},
   "outputs": [],
   "source": [
    "a = []\n",
    "b = [1,2,3]\n",
    "c = [1, 2, 'Hello', 4]\n",
    "d = [1, 2, 3, ['a','b','c']]"
   ]
  },
  {
   "cell_type": "markdown",
   "id": "d85095b2",
   "metadata": {},
   "source": [
    "* 리스트 안의 성분들의 index\n",
    "    - 0번부터 시작. 즉 b의 첫 번째 성분은 b[0]\n",
    "    - 마지막 성분의 index는 -1, 즉 b의 마지막 성분은 b[-1]\n",
    "    - 리스트의 성분으로 또 다른 리스트가 저장된 이중리스트의 성분들은 이중 index를 사용하여 표현"
   ]
  },
  {
   "cell_type": "code",
   "execution_count": 68,
   "id": "72122e15",
   "metadata": {},
   "outputs": [
    {
     "name": "stdout",
     "output_type": "stream",
     "text": [
      "1\n",
      "3\n"
     ]
    }
   ],
   "source": [
    "b_first = b[0]\n",
    "b_last = b[-1]\n",
    "print(b_first);print(b_last)"
   ]
  },
  {
   "cell_type": "code",
   "execution_count": 70,
   "id": "b908583c",
   "metadata": {},
   "outputs": [
    {
     "data": {
      "text/plain": [
       "['a', 'b', 'c']"
      ]
     },
     "execution_count": 70,
     "metadata": {},
     "output_type": "execute_result"
    }
   ],
   "source": [
    "d[-1]"
   ]
  },
  {
   "cell_type": "code",
   "execution_count": 72,
   "id": "6191e751",
   "metadata": {},
   "outputs": [
    {
     "name": "stdout",
     "output_type": "stream",
     "text": [
      "a\n",
      "a\n"
     ]
    }
   ],
   "source": [
    "print(d[-1][0])\n",
    "d_last_first = d[3][0]\n",
    "print(d_last_first)"
   ]
  },
  {
   "cell_type": "code",
   "execution_count": 74,
   "id": "5dd607cd",
   "metadata": {},
   "outputs": [
    {
     "data": {
      "text/plain": [
       "'c'"
      ]
     },
     "execution_count": 74,
     "metadata": {},
     "output_type": "execute_result"
    }
   ],
   "source": [
    "d[-1][-1]"
   ]
  },
  {
   "cell_type": "markdown",
   "id": "92ea54a1",
   "metadata": {},
   "source": [
    "* 리스트의 특정 성분들 골라내기(slicing)\n",
    "    - :(콜론)을 기준으로 왼쪽은 시작지점의 다음 값(0부터 시작), 오른쪽은 끝나는 지점\n",
    "    - 즉, c[1:3] 이면 리스트 c의 2번째 성분부터 3번째 성분까지\n",
    "    - : 왼쪽 값을 지정하지 않으면 처음부터. 즉 c[:2]는 처음부터 2번째 성분까지\n",
    "    - : 오른쪽 값을 지정하지 않으면 마지막까지, c[1:]은 2번째 성분부터 마지막까지"
   ]
  },
  {
   "cell_type": "code",
   "execution_count": 77,
   "id": "738f9314",
   "metadata": {},
   "outputs": [
    {
     "data": {
      "text/plain": [
       "[2, 'Hello']"
      ]
     },
     "execution_count": 77,
     "metadata": {},
     "output_type": "execute_result"
    }
   ],
   "source": [
    "c[1:3]"
   ]
  },
  {
   "cell_type": "code",
   "execution_count": 79,
   "id": "4d9d8a0f",
   "metadata": {},
   "outputs": [
    {
     "data": {
      "text/plain": [
       "[2]"
      ]
     },
     "execution_count": 79,
     "metadata": {},
     "output_type": "execute_result"
    }
   ],
   "source": [
    "c[1:2]"
   ]
  },
  {
   "cell_type": "code",
   "execution_count": 81,
   "id": "2f21f349",
   "metadata": {},
   "outputs": [
    {
     "data": {
      "text/plain": [
       "[1, 2]"
      ]
     },
     "execution_count": 81,
     "metadata": {},
     "output_type": "execute_result"
    }
   ],
   "source": [
    "c[0:2]"
   ]
  },
  {
   "cell_type": "code",
   "execution_count": 83,
   "id": "90cc4ebd",
   "metadata": {},
   "outputs": [
    {
     "data": {
      "text/plain": [
       "[1, 2]"
      ]
     },
     "execution_count": 83,
     "metadata": {},
     "output_type": "execute_result"
    }
   ],
   "source": [
    "c[:2]"
   ]
  },
  {
   "cell_type": "code",
   "execution_count": 85,
   "id": "669e30bc",
   "metadata": {},
   "outputs": [
    {
     "data": {
      "text/plain": [
       "[2, 'Hello', 4]"
      ]
     },
     "execution_count": 85,
     "metadata": {},
     "output_type": "execute_result"
    }
   ],
   "source": [
    "c[1:]"
   ]
  },
  {
   "cell_type": "code",
   "execution_count": 87,
   "id": "160beb9f",
   "metadata": {},
   "outputs": [
    {
     "data": {
      "text/plain": [
       "['a', 'b']"
      ]
     },
     "execution_count": 87,
     "metadata": {},
     "output_type": "execute_result"
    }
   ],
   "source": [
    "d[-1][:2]"
   ]
  },
  {
   "cell_type": "markdown",
   "id": "91163da2",
   "metadata": {},
   "source": [
    "* 리스트 연산\n",
    "    - ' + ' 기호는 성분들의 더하기가 아니라 리스트를 이어붙여서 새로운 하나의 리스트를 만들게됨. 따라서 '리스트 + 리스트' 형태\n",
    "    - ' * ' 기호는 리스트를 반복. 따라서 ' 리스트 * 정수 ' 형태로 작성"
   ]
  },
  {
   "cell_type": "code",
   "execution_count": 90,
   "id": "e7354e5b",
   "metadata": {},
   "outputs": [
    {
     "data": {
      "text/plain": [
       "[1, 2, 3, 1, 2, 'Hello', 4]"
      ]
     },
     "execution_count": 90,
     "metadata": {},
     "output_type": "execute_result"
    }
   ],
   "source": [
    "b + c"
   ]
  },
  {
   "cell_type": "code",
   "execution_count": 92,
   "id": "addbc57f",
   "metadata": {},
   "outputs": [
    {
     "ename": "TypeError",
     "evalue": "can only concatenate list (not \"int\") to list",
     "output_type": "error",
     "traceback": [
      "\u001b[1;31m---------------------------------------------------------------------------\u001b[0m",
      "\u001b[1;31mTypeError\u001b[0m                                 Traceback (most recent call last)",
      "Cell \u001b[1;32mIn[92], line 1\u001b[0m\n\u001b[1;32m----> 1\u001b[0m \u001b[43mb\u001b[49m\u001b[43m \u001b[49m\u001b[38;5;241;43m+\u001b[39;49m\u001b[43m \u001b[49m\u001b[38;5;241;43m3\u001b[39;49m\n",
      "\u001b[1;31mTypeError\u001b[0m: can only concatenate list (not \"int\") to list"
     ]
    }
   ],
   "source": [
    "b + 3"
   ]
  },
  {
   "cell_type": "code",
   "execution_count": 94,
   "id": "e5de489b-f9d8-4156-955c-6eb09fdc9959",
   "metadata": {},
   "outputs": [
    {
     "data": {
      "text/plain": [
       "[1, 2, 3, 3]"
      ]
     },
     "execution_count": 94,
     "metadata": {},
     "output_type": "execute_result"
    }
   ],
   "source": [
    "b + [3]"
   ]
  },
  {
   "cell_type": "code",
   "execution_count": 96,
   "id": "4e849704",
   "metadata": {},
   "outputs": [
    {
     "data": {
      "text/plain": [
       "[1, 2, 3, 1, 2, 3]"
      ]
     },
     "execution_count": 96,
     "metadata": {},
     "output_type": "execute_result"
    }
   ],
   "source": [
    "b * 2"
   ]
  },
  {
   "cell_type": "code",
   "execution_count": 98,
   "id": "77eef369",
   "metadata": {},
   "outputs": [
    {
     "ename": "TypeError",
     "evalue": "can't multiply sequence by non-int of type 'list'",
     "output_type": "error",
     "traceback": [
      "\u001b[1;31m---------------------------------------------------------------------------\u001b[0m",
      "\u001b[1;31mTypeError\u001b[0m                                 Traceback (most recent call last)",
      "Cell \u001b[1;32mIn[98], line 1\u001b[0m\n\u001b[1;32m----> 1\u001b[0m \u001b[43mb\u001b[49m\u001b[43m \u001b[49m\u001b[38;5;241;43m*\u001b[39;49m\u001b[43m \u001b[49m\u001b[43mc\u001b[49m\n",
      "\u001b[1;31mTypeError\u001b[0m: can't multiply sequence by non-int of type 'list'"
     ]
    }
   ],
   "source": [
    "b * c"
   ]
  },
  {
   "cell_type": "markdown",
   "id": "b60181ab",
   "metadata": {},
   "source": [
    "* 리스트의 수정과 삭제\n",
    "     - 리스트의 성분을 다른 값으로 대체하여 수정\n",
    "     - del 함수를 이용하여 리스트 성분 삭제"
   ]
  },
  {
   "cell_type": "code",
   "execution_count": 101,
   "id": "f082d2a6",
   "metadata": {},
   "outputs": [
    {
     "name": "stdout",
     "output_type": "stream",
     "text": [
      "[1, 2, 3, 4]\n",
      "[1, 10, 3, 4]\n"
     ]
    }
   ],
   "source": [
    "a = [1, 2, 3, 4]\n",
    "print(a)\n",
    "a[1] = 10\n",
    "print(a)"
   ]
  },
  {
   "cell_type": "code",
   "execution_count": 103,
   "id": "309572f8",
   "metadata": {},
   "outputs": [
    {
     "name": "stdout",
     "output_type": "stream",
     "text": [
      "[1, 3, 4]\n"
     ]
    }
   ],
   "source": [
    "del a[1]\n",
    "print(a)"
   ]
  },
  {
   "cell_type": "code",
   "execution_count": 105,
   "id": "941ea40f",
   "metadata": {},
   "outputs": [
    {
     "name": "stdout",
     "output_type": "stream",
     "text": [
      "[1]\n"
     ]
    }
   ],
   "source": [
    "del a[1:]\n",
    "print(a)"
   ]
  },
  {
   "cell_type": "code",
   "execution_count": 107,
   "id": "9aeb0349",
   "metadata": {},
   "outputs": [
    {
     "data": {
      "text/plain": [
       "1"
      ]
     },
     "execution_count": 107,
     "metadata": {},
     "output_type": "execute_result"
    }
   ],
   "source": [
    "len(a)"
   ]
  },
  {
   "cell_type": "code",
   "execution_count": 109,
   "id": "49deb29c",
   "metadata": {},
   "outputs": [
    {
     "ename": "NameError",
     "evalue": "name 'a' is not defined",
     "output_type": "error",
     "traceback": [
      "\u001b[1;31m---------------------------------------------------------------------------\u001b[0m",
      "\u001b[1;31mNameError\u001b[0m                                 Traceback (most recent call last)",
      "Cell \u001b[1;32mIn[109], line 2\u001b[0m\n\u001b[0;32m      1\u001b[0m \u001b[38;5;28;01mdel\u001b[39;00m a\n\u001b[1;32m----> 2\u001b[0m \u001b[43ma\u001b[49m\n",
      "\u001b[1;31mNameError\u001b[0m: name 'a' is not defined"
     ]
    }
   ],
   "source": [
    "del a\n",
    "a"
   ]
  },
  {
   "cell_type": "markdown",
   "id": "e3037eba",
   "metadata": {},
   "source": [
    "* 리스트는 하나의 클래스. 즉, 여러 특징들 또는 함수들이 리스트라는 클래스에 포함됨.\n",
    "* 예를 들어, 리스트에는 새로운 값들을 추가하거나 제거할 수 있는 특징(함수형태 : attributes)들이 정의되어있으며 이러한 함수를 불러오기 위해서는 \n",
    "> 리스트.함수  "
   ]
  },
  {
   "cell_type": "markdown",
   "id": "97474a13",
   "metadata": {},
   "source": [
    "* 리스트에 성분 추가(append)\n",
    "    - list.append(x) : list라는 이름의 리스트의 마지막에 x를 추가"
   ]
  },
  {
   "cell_type": "code",
   "execution_count": 146,
   "id": "14624a02",
   "metadata": {},
   "outputs": [
    {
     "name": "stdout",
     "output_type": "stream",
     "text": [
      "[]\n"
     ]
    }
   ],
   "source": [
    "aa = []\n",
    "print(aa)"
   ]
  },
  {
   "cell_type": "code",
   "execution_count": 148,
   "id": "a8edc569-a1b9-46d4-94b0-7c31deef397c",
   "metadata": {},
   "outputs": [
    {
     "data": {
      "text/plain": [
       "['__add__',\n",
       " '__class__',\n",
       " '__class_getitem__',\n",
       " '__contains__',\n",
       " '__delattr__',\n",
       " '__delitem__',\n",
       " '__dir__',\n",
       " '__doc__',\n",
       " '__eq__',\n",
       " '__format__',\n",
       " '__ge__',\n",
       " '__getattribute__',\n",
       " '__getitem__',\n",
       " '__gt__',\n",
       " '__hash__',\n",
       " '__iadd__',\n",
       " '__imul__',\n",
       " '__init__',\n",
       " '__init_subclass__',\n",
       " '__iter__',\n",
       " '__le__',\n",
       " '__len__',\n",
       " '__lt__',\n",
       " '__mul__',\n",
       " '__ne__',\n",
       " '__new__',\n",
       " '__reduce__',\n",
       " '__reduce_ex__',\n",
       " '__repr__',\n",
       " '__reversed__',\n",
       " '__rmul__',\n",
       " '__setattr__',\n",
       " '__setitem__',\n",
       " '__sizeof__',\n",
       " '__str__',\n",
       " '__subclasshook__',\n",
       " 'append',\n",
       " 'clear',\n",
       " 'copy',\n",
       " 'count',\n",
       " 'extend',\n",
       " 'index',\n",
       " 'insert',\n",
       " 'pop',\n",
       " 'remove',\n",
       " 'reverse',\n",
       " 'sort']"
      ]
     },
     "execution_count": 148,
     "metadata": {},
     "output_type": "execute_result"
    }
   ],
   "source": [
    "dir(aa)"
   ]
  },
  {
   "cell_type": "code",
   "execution_count": 150,
   "id": "a86fea3c",
   "metadata": {},
   "outputs": [
    {
     "data": {
      "text/plain": [
       "[3, 1, 8]"
      ]
     },
     "execution_count": 150,
     "metadata": {},
     "output_type": "execute_result"
    }
   ],
   "source": [
    "aa.append(3)\n",
    "aa.append(1)\n",
    "aa.append(8)\n",
    "aa"
   ]
  },
  {
   "cell_type": "code",
   "execution_count": 152,
   "id": "b87c94c9",
   "metadata": {},
   "outputs": [
    {
     "ename": "TypeError",
     "evalue": "list.append() takes exactly one argument (2 given)",
     "output_type": "error",
     "traceback": [
      "\u001b[1;31m---------------------------------------------------------------------------\u001b[0m",
      "\u001b[1;31mTypeError\u001b[0m                                 Traceback (most recent call last)",
      "Cell \u001b[1;32mIn[152], line 1\u001b[0m\n\u001b[1;32m----> 1\u001b[0m \u001b[43maa\u001b[49m\u001b[38;5;241;43m.\u001b[39;49m\u001b[43mappend\u001b[49m\u001b[43m(\u001b[49m\u001b[38;5;241;43m7\u001b[39;49m\u001b[43m,\u001b[49m\u001b[43m \u001b[49m\u001b[38;5;241;43m1000\u001b[39;49m\u001b[43m)\u001b[49m\n\u001b[0;32m      2\u001b[0m aa\n",
      "\u001b[1;31mTypeError\u001b[0m: list.append() takes exactly one argument (2 given)"
     ]
    }
   ],
   "source": [
    "aa.append(7, 1000)\n",
    "aa"
   ]
  },
  {
   "cell_type": "code",
   "execution_count": 154,
   "id": "a285850c",
   "metadata": {},
   "outputs": [
    {
     "data": {
      "text/plain": [
       "[3, 1, 8, [7, 100]]"
      ]
     },
     "execution_count": 154,
     "metadata": {},
     "output_type": "execute_result"
    }
   ],
   "source": [
    "aa.append([7, 100])\n",
    "aa"
   ]
  },
  {
   "cell_type": "markdown",
   "id": "e7a21e3d",
   "metadata": {},
   "source": [
    "* 리스트에 여러 값을 넣고 싶을 때\n",
    "    - list.extent([])"
   ]
  },
  {
   "cell_type": "code",
   "execution_count": 157,
   "id": "1048d937",
   "metadata": {},
   "outputs": [
    {
     "data": {
      "text/plain": [
       "[3, 1, 8, [7, 100], 1, 3, 4, 5]"
      ]
     },
     "execution_count": 157,
     "metadata": {},
     "output_type": "execute_result"
    }
   ],
   "source": [
    "aa.extend([1,3,4,5])\n",
    "aa"
   ]
  },
  {
   "cell_type": "markdown",
   "id": "805a086a",
   "metadata": {},
   "source": [
    "* 리스트 정렬(sort)"
   ]
  },
  {
   "cell_type": "code",
   "execution_count": 160,
   "id": "19ff03bd",
   "metadata": {},
   "outputs": [
    {
     "name": "stdout",
     "output_type": "stream",
     "text": [
      "[3, 1, 8, 1, 3, 4, 5]\n"
     ]
    },
    {
     "data": {
      "text/plain": [
       "[1, 1, 3, 3, 4, 5, 8]"
      ]
     },
     "execution_count": 160,
     "metadata": {},
     "output_type": "execute_result"
    }
   ],
   "source": [
    "del aa[-5]\n",
    "print(aa)\n",
    "aa.sort()\n",
    "aa"
   ]
  },
  {
   "cell_type": "markdown",
   "id": "35a001cc",
   "metadata": {},
   "source": [
    "* 리스트의 성분들을 역순으로 정렬(reverse)"
   ]
  },
  {
   "cell_type": "code",
   "execution_count": 163,
   "id": "f00b47cf",
   "metadata": {},
   "outputs": [
    {
     "data": {
      "text/plain": [
       "[8, 5, 4, 3, 3, 1, 1]"
      ]
     },
     "execution_count": 163,
     "metadata": {},
     "output_type": "execute_result"
    }
   ],
   "source": [
    "aa.reverse()\n",
    "aa"
   ]
  },
  {
   "cell_type": "markdown",
   "id": "2e09fbc2",
   "metadata": {},
   "source": [
    "* 리스트의 특정 성분이 어디에 있는지 위치 반환(index)"
   ]
  },
  {
   "cell_type": "code",
   "execution_count": 166,
   "id": "891bb20e",
   "metadata": {},
   "outputs": [
    {
     "data": {
      "text/plain": [
       "0"
      ]
     },
     "execution_count": 166,
     "metadata": {},
     "output_type": "execute_result"
    }
   ],
   "source": [
    "aa.index(8)"
   ]
  },
  {
   "cell_type": "markdown",
   "id": "89a71780",
   "metadata": {},
   "source": [
    "* 리스트에 성분 삽입(insert), 성분 제거(remove)\n",
    "    - list.insert(0, 5) : list라는 리스트의 0번(첫 번째 성분)에 5라는 값을 삽입\n",
    "    - list.remove(5) : list라는 리스트 성분 중 5 값을 가지는 것을 제거. 동시에 여러개의 5가 있을 경우 가장 먼저 나오는 5를 삭제 "
   ]
  },
  {
   "cell_type": "code",
   "execution_count": 169,
   "id": "ceb5f5ce",
   "metadata": {},
   "outputs": [],
   "source": [
    "ㅁ = [2, 3, 5, 3, 7, 6, 3]"
   ]
  },
  {
   "cell_type": "code",
   "execution_count": 171,
   "id": "16cb8fbc",
   "metadata": {},
   "outputs": [
    {
     "data": {
      "text/plain": [
       "[5, 2, 3, 5, 3, 7, 6, 3]"
      ]
     },
     "execution_count": 171,
     "metadata": {},
     "output_type": "execute_result"
    }
   ],
   "source": [
    "ㅁ.insert(0,5)\n",
    "ㅁ"
   ]
  },
  {
   "cell_type": "code",
   "execution_count": 173,
   "id": "24763fd5",
   "metadata": {},
   "outputs": [
    {
     "data": {
      "text/plain": [
       "[2, 3, 5, 3, 7, 6, 3]"
      ]
     },
     "execution_count": 173,
     "metadata": {},
     "output_type": "execute_result"
    }
   ],
   "source": [
    "ㅁ.remove(5)\n",
    "ㅁ"
   ]
  },
  {
   "cell_type": "markdown",
   "id": "d2ff95b5",
   "metadata": {},
   "source": [
    "* 리스트에 포함된 성분의 개수 세기(count)\n",
    "    - list.count(3) : list라는 리스트 안에 3의 값을 가지는 성분이 몇 개인지 확인"
   ]
  },
  {
   "cell_type": "code",
   "execution_count": 176,
   "id": "82f5b9e3",
   "metadata": {},
   "outputs": [
    {
     "data": {
      "text/plain": [
       "3"
      ]
     },
     "execution_count": 176,
     "metadata": {},
     "output_type": "execute_result"
    }
   ],
   "source": [
    "ㅁ.count(3)"
   ]
  },
  {
   "cell_type": "markdown",
   "id": "3eec8b99",
   "metadata": {},
   "source": [
    "**aa.+tab 을 누르면 리스트라는 클래스로 정의된 aa에 사용할 수 있는 특징(함수)들을 확인할 수 있음.**"
   ]
  },
  {
   "cell_type": "markdown",
   "id": "cee6610a-6f90-4a14-907c-10274dd7faf4",
   "metadata": {},
   "source": [
    "### 튜플(tuple)\n",
    "\n",
    "리스트와 유사하지만 성분의 변경이 불가능하다. "
   ]
  },
  {
   "cell_type": "code",
   "execution_count": 180,
   "id": "51ac1fc6-d9d9-4975-b8ee-c4f5fd68122c",
   "metadata": {},
   "outputs": [
    {
     "name": "stdout",
     "output_type": "stream",
     "text": [
      "(1, 2, 3)\n"
     ]
    }
   ],
   "source": [
    "a = (1,2,3)\n",
    "print(a)"
   ]
  },
  {
   "cell_type": "code",
   "execution_count": 182,
   "id": "ec4a63dd-9970-49c6-a714-8b85d8bab413",
   "metadata": {},
   "outputs": [
    {
     "data": {
      "text/plain": [
       "2"
      ]
     },
     "execution_count": 182,
     "metadata": {},
     "output_type": "execute_result"
    }
   ],
   "source": [
    "a[1]"
   ]
  },
  {
   "cell_type": "code",
   "execution_count": 184,
   "id": "8d9e6d44-1ccb-4006-b327-af00666f56d7",
   "metadata": {
    "scrolled": true
   },
   "outputs": [
    {
     "ename": "TypeError",
     "evalue": "'tuple' object does not support item assignment",
     "output_type": "error",
     "traceback": [
      "\u001b[1;31m---------------------------------------------------------------------------\u001b[0m",
      "\u001b[1;31mTypeError\u001b[0m                                 Traceback (most recent call last)",
      "Cell \u001b[1;32mIn[184], line 1\u001b[0m\n\u001b[1;32m----> 1\u001b[0m a[\u001b[38;5;241m1\u001b[39m] \u001b[38;5;241m=\u001b[39m \u001b[38;5;241m3\u001b[39m\n",
      "\u001b[1;31mTypeError\u001b[0m: 'tuple' object does not support item assignment"
     ]
    }
   ],
   "source": [
    "a[1] = 3"
   ]
  },
  {
   "cell_type": "markdown",
   "id": "5f730c2d-3bcc-4d43-83fc-4fd05ebc03d7",
   "metadata": {},
   "source": [
    "예제1. 반지름을 1부터 50까지 중 홀수 25개(1, 3, 5, 7, ...)으로 가지는 원의 넓이를 출력하여라.\n",
    "\n",
    "예제2. for 를 이용한 20번의 반복을 통해 리스트의 성분을 증가시키며 리스트를 업데이트하는데, 매번의 반복마다 앞의 두 항의 합을 새로운 성분으로 가지는(피보나치 수열) 리스트를 출력하여라. 즉, 처음 리스트는 [1,1], 한 번 반복한 후 얻어지는 리스트는 [1,1,2], 다음 반복에서 얻어지는 리스트는 [1,1,2,3], 그 다음은 [1,1,2,3,5], ..."
   ]
  },
  {
   "cell_type": "markdown",
   "id": "a2e72f45-7be6-443a-9572-42ad00afa11c",
   "metadata": {},
   "source": [
    "# library/module 사용"
   ]
  },
  {
   "cell_type": "markdown",
   "id": "a6aef65a-a971-4b4e-809e-b933735a3ec5",
   "metadata": {},
   "source": [
    "* 모듈(module)\n",
    "    - 모듈은 파이썬 코드 파일(.py) 형태로 저장되어있는 함수나 변수 또는 클래스를 모아 놓은 파이썬 파일\n",
    "    - 다른 사람들이 이미 만들어 놓은 모듈을 사용할 수도 있고 직접 만들어 사용 가능\n",
    "    - 많은 경우, 다른 사람들이 이미 만들어 놓은 모듈을 불러와서 필요한 함수들을 사용\n",
    "* 라이브러리(library), 패키지(package)\n",
    "    - 여러 모듈을 모아놓은 '도서관'\n",
    "    - 많이 사용되는 라이브러리들은 파이썬을 설치할 때 자동적으로 설치됨"
   ]
  }
 ],
 "metadata": {
  "kernelspec": {
   "display_name": "Python 3 (ipykernel)",
   "language": "python",
   "name": "python3"
  },
  "language_info": {
   "codemirror_mode": {
    "name": "ipython",
    "version": 3
   },
   "file_extension": ".py",
   "mimetype": "text/x-python",
   "name": "python",
   "nbconvert_exporter": "python",
   "pygments_lexer": "ipython3",
   "version": "3.10.9"
  }
 },
 "nbformat": 4,
 "nbformat_minor": 5
}
